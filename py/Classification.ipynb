{
 "cells": [
  {
   "cell_type": "markdown",
   "metadata": {},
   "source": [
    "# TODO\n",
    "* Evaluer erreurs\n",
    "* Voir les associations mots->classe\n",
    "* Voir les ech. qui activent certaines classes"
   ]
  },
  {
   "cell_type": "code",
   "execution_count": 31,
   "metadata": {
    "scrolled": true
   },
   "outputs": [
    {
     "name": "stdout",
     "output_type": "stream",
     "text": [
      "The autoreload extension is already loaded. To reload it, use:\n",
      "  %reload_ext autoreload\n"
     ]
    }
   ],
   "source": [
    "import pickle\n",
    "import numpy as np\n",
    "from keras.models import Sequential\n",
    "from keras.layers import Dense, BatchNormalization\n",
    "from keras.utils import to_categorical\n",
    "from keras.regularizers import l2\n",
    "\n",
    "from sklearn.metrics import classification_report\n",
    "\n",
    "import classif\n",
    "\n",
    "%load_ext autoreload\n",
    "%autoreload 2"
   ]
  },
  {
   "cell_type": "code",
   "execution_count": 155,
   "metadata": {},
   "outputs": [
    {
     "name": "stdout",
     "output_type": "stream",
     "text": [
      "N train, val, test: 3172 317 1799\n",
      "Bin count train:  [777 157 411  39 821  83  26  97 192 569]\n",
      "Bin count val:    [88 18 40  5 74  9  0  8 12 63]\n",
      "Bin count test:   [483  83 232  29 461  35  14  44  94 324]\n"
     ]
    }
   ],
   "source": [
    "data, num_classes, gen = classif.load_data()\n",
    "\n",
    "q_labels = ['Démocratie: Comment reprendre le pouvoir?',\n",
    "'Économie: Comment développer le Québec selon nos priorités?',\n",
    "'Régions: Comment dynamiser toutes nos communautés?',\n",
    "'Indépendance: Comment se remettre en marche?',\n",
    "'Éducation: Comment permettre à tout le monde de réaliser son plein potentiel?',\n",
    "'Premiers Peuples: Comment construire la solidarité entre nous?',\n",
    "'Diversité: Comment vivre ensemble sans racisme ni discrimination?',\n",
    "'Culture: Comment favoriser une création artistique vivante et en assurer l’accès à tous?',\n",
    "'Santé: Comment prendre soin de tout le monde?',\n",
    "'Climat: Comment enclencher la transition?']\n",
    "\n",
    "short_labels = ['Démocratie',\n",
    "'Économie',\n",
    "'Régions',\n",
    "'Indépendance',\n",
    "'Éducation',\n",
    "'Premiers Peuples',\n",
    "'Diversité',\n",
    "'Culture',\n",
    "'Santé',\n",
    "'Climat']"
   ]
  },
  {
   "cell_type": "code",
   "execution_count": 156,
   "metadata": {},
   "outputs": [],
   "source": [
    "def build_model(num_classes, l2_reg):\n",
    "    model = Sequential()\n",
    "    model.add(BatchNormalization(input_shape=(64,), gamma_regularizer=l2(l2_reg)))\n",
    "    model.add(Dense(256, activation='relu', kernel_regularizer=l2(l2_reg)))\n",
    "    model.add(BatchNormalization(gamma_regularizer=l2(l2_reg)))\n",
    "    model.add(Dense(1024, activation='relu', kernel_regularizer=l2(l2_reg)))\n",
    "    model.add(BatchNormalization(gamma_regularizer=l2(l2_reg)))\n",
    "    model.add(Dense(num_classes, activation='softmax', kernel_regularizer=l2(l2_reg)))\n",
    "    \n",
    "    model.compile('adam', 'categorical_crossentropy', metrics=['acc'])\n",
    "    return model\n",
    "\n",
    "\n",
    "def train(model: Sequential, data, gen=None, verbose=1, epochs=10):\n",
    "    print('Training...')\n",
    "    if gen:\n",
    "        history = model.fit_generator(gen(), 100, epochs=epochs, verbose=verbose,\n",
    "                                      validation_data=(data['X_val'], data['y_val']))\n",
    "    else:\n",
    "        history = model.fit(data['X_train'], data['y_train'],\n",
    "                            validation_data=(data['X_val'], data['y_val']),\n",
    "                            verbose=verbose)\n",
    "    \n",
    "    return history\n",
    "    \n",
    "\n",
    "def test(model: Sequential, data):\n",
    "    print('Testing...')\n",
    "    results = model.evaluate(data['X_test'], data['y_test'])\n",
    "    print('\\nLoss: {}  Acc: {}'.format(*results))"
   ]
  },
  {
   "cell_type": "code",
   "execution_count": 60,
   "metadata": {},
   "outputs": [
    {
     "name": "stdout",
     "output_type": "stream",
     "text": [
      "Trying reg=1e-06\n",
      "Training...\n",
      "Using gen\n",
      "Val acc: 0.848580443709\n",
      "Trying reg=1e-05\n",
      "Training...\n",
      "Using gen\n",
      "Val acc: 0.82965299929\n",
      "Trying reg=0.0001\n",
      "Training...\n",
      "Using gen\n",
      "Val acc: 0.813880126935\n",
      "Trying reg=0.001\n",
      "Training...\n",
      "Using gen\n",
      "Val acc: 0.804416402845\n",
      "Trying reg=0.01\n",
      "Training...\n",
      "Using gen\n",
      "Val acc: 0.574132493618\n",
      "Trying reg=0.1\n",
      "Training...\n",
      "Using gen\n",
      "Val acc: 0.359621450258\n"
     ]
    }
   ],
   "source": [
    "# Perform grid search\n",
    "# best l2_reg = 0.01\n",
    "reg_list = [1e-6, 1e-5, 1e-4, 1e-3, 1e-2, 1e-1]\n",
    "results = {}\n",
    "\n",
    "for reg in reg_list:\n",
    "    print('Trying reg=' + str(reg))\n",
    "    model = build_model(num_classes, reg)\n",
    "    history = train(model, data, gen, verbose=0, epochs=40)\n",
    "    val_acc = np.max(history.history['val_acc'])\n",
    "    print('Val acc: ' + str(val_acc))\n",
    "    results[reg] = val_acc"
   ]
  },
  {
   "cell_type": "code",
   "execution_count": 166,
   "metadata": {
    "scrolled": true
   },
   "outputs": [
    {
     "name": "stdout",
     "output_type": "stream",
     "text": [
      "Training...\n",
      "Epoch 1/80\n",
      "100/100 [==============================] - 7s - loss: 2.1491 - acc: 0.3578 - val_loss: 1.9947 - val_acc: 0.2934\n",
      "Epoch 2/80\n",
      "100/100 [==============================] - 1s - loss: 1.5424 - acc: 0.5047 - val_loss: 1.7171 - val_acc: 0.4353\n",
      "Epoch 3/80\n",
      "100/100 [==============================] - 1s - loss: 1.4034 - acc: 0.5494 - val_loss: 1.5333 - val_acc: 0.5110\n",
      "Epoch 4/80\n",
      "100/100 [==============================] - 1s - loss: 1.3065 - acc: 0.5853 - val_loss: 1.7720 - val_acc: 0.4732\n",
      "Epoch 5/80\n",
      "100/100 [==============================] - 1s - loss: 1.2106 - acc: 0.6106 - val_loss: 1.3626 - val_acc: 0.5174\n",
      "Epoch 6/80\n",
      "100/100 [==============================] - 1s - loss: 1.1039 - acc: 0.6462 - val_loss: 1.3937 - val_acc: 0.5773\n",
      "Epoch 7/80\n",
      "100/100 [==============================] - 1s - loss: 1.0303 - acc: 0.6659 - val_loss: 1.2699 - val_acc: 0.5899\n",
      "Epoch 8/80\n",
      "100/100 [==============================] - 1s - loss: 1.0287 - acc: 0.6597 - val_loss: 1.3014 - val_acc: 0.5710\n",
      "Epoch 9/80\n",
      "100/100 [==============================] - 1s - loss: 0.9073 - acc: 0.7163 - val_loss: 0.9792 - val_acc: 0.6814\n",
      "Epoch 10/80\n",
      "100/100 [==============================] - 1s - loss: 0.8810 - acc: 0.7091 - val_loss: 1.1253 - val_acc: 0.6435\n",
      "Epoch 11/80\n",
      "100/100 [==============================] - 1s - loss: 0.8799 - acc: 0.7078 - val_loss: 1.2388 - val_acc: 0.6719\n",
      "Epoch 12/80\n",
      "100/100 [==============================] - 0s - loss: 0.8716 - acc: 0.7163 - val_loss: 1.0732 - val_acc: 0.6372\n",
      "Epoch 13/80\n",
      "100/100 [==============================] - 1s - loss: 0.8660 - acc: 0.7116 - val_loss: 1.0305 - val_acc: 0.6877\n",
      "Epoch 14/80\n",
      "100/100 [==============================] - 1s - loss: 0.7535 - acc: 0.7491 - val_loss: 0.9295 - val_acc: 0.6940\n",
      "Epoch 15/80\n",
      "100/100 [==============================] - 1s - loss: 0.7808 - acc: 0.7412 - val_loss: 0.8811 - val_acc: 0.7066\n",
      "Epoch 16/80\n",
      "100/100 [==============================] - 1s - loss: 0.8078 - acc: 0.7350 - val_loss: 0.9051 - val_acc: 0.7129\n",
      "Epoch 17/80\n",
      "100/100 [==============================] - 1s - loss: 0.7234 - acc: 0.7678 - val_loss: 0.9002 - val_acc: 0.7098\n",
      "Epoch 18/80\n",
      "100/100 [==============================] - 1s - loss: 0.7282 - acc: 0.7600 - val_loss: 0.8298 - val_acc: 0.7476\n",
      "Epoch 19/80\n",
      "100/100 [==============================] - 0s - loss: 0.6959 - acc: 0.7669 - val_loss: 0.8472 - val_acc: 0.7287\n",
      "Epoch 20/80\n",
      "100/100 [==============================] - 1s - loss: 0.6650 - acc: 0.7903 - val_loss: 0.8283 - val_acc: 0.7224\n",
      "Epoch 21/80\n",
      "100/100 [==============================] - 1s - loss: 0.6508 - acc: 0.7894 - val_loss: 0.8386 - val_acc: 0.7256\n",
      "Epoch 22/80\n",
      "100/100 [==============================] - 1s - loss: 0.6824 - acc: 0.7812 - val_loss: 0.7634 - val_acc: 0.7350\n",
      "Epoch 23/80\n",
      "100/100 [==============================] - 1s - loss: 0.6631 - acc: 0.7881 - val_loss: 0.8247 - val_acc: 0.7098\n",
      "Epoch 24/80\n",
      "100/100 [==============================] - 1s - loss: 0.5999 - acc: 0.8056 - val_loss: 0.8165 - val_acc: 0.7413\n",
      "Epoch 25/80\n",
      "100/100 [==============================] - 0s - loss: 0.6036 - acc: 0.8012 - val_loss: 0.6749 - val_acc: 0.8139\n",
      "Epoch 26/80\n",
      "100/100 [==============================] - 1s - loss: 0.6341 - acc: 0.7928 - val_loss: 0.7170 - val_acc: 0.7697\n",
      "Epoch 27/80\n",
      "100/100 [==============================] - 1s - loss: 0.6074 - acc: 0.8044 - val_loss: 0.7691 - val_acc: 0.7760\n",
      "Epoch 28/80\n",
      "100/100 [==============================] - 1s - loss: 0.5466 - acc: 0.8281 - val_loss: 0.7091 - val_acc: 0.7666\n",
      "Epoch 29/80\n",
      "100/100 [==============================] - 1s - loss: 0.5506 - acc: 0.8178 - val_loss: 0.6830 - val_acc: 0.7666\n",
      "Epoch 30/80\n",
      "100/100 [==============================] - 1s - loss: 0.5408 - acc: 0.8234 - val_loss: 0.6726 - val_acc: 0.7697\n",
      "Epoch 31/80\n",
      "100/100 [==============================] - 1s - loss: 0.5918 - acc: 0.8025 - val_loss: 0.6422 - val_acc: 0.7950\n",
      "Epoch 32/80\n",
      "100/100 [==============================] - 1s - loss: 0.5274 - acc: 0.8222 - val_loss: 0.5845 - val_acc: 0.8139\n",
      "Epoch 33/80\n",
      "100/100 [==============================] - 1s - loss: 0.5359 - acc: 0.8297 - val_loss: 0.6693 - val_acc: 0.7918\n",
      "Epoch 34/80\n",
      "100/100 [==============================] - 1s - loss: 0.4974 - acc: 0.8363 - val_loss: 0.5717 - val_acc: 0.8265\n",
      "Epoch 35/80\n",
      "100/100 [==============================] - 1s - loss: 0.5107 - acc: 0.8366 - val_loss: 0.5895 - val_acc: 0.8233\n",
      "Epoch 36/80\n",
      "100/100 [==============================] - 1s - loss: 0.5211 - acc: 0.8316 - val_loss: 0.5312 - val_acc: 0.8139\n",
      "Epoch 37/80\n",
      "100/100 [==============================] - 1s - loss: 0.4780 - acc: 0.8369 - val_loss: 0.5871 - val_acc: 0.8233\n",
      "Epoch 38/80\n",
      "100/100 [==============================] - 1s - loss: 0.4724 - acc: 0.8556 - val_loss: 0.6325 - val_acc: 0.7981\n",
      "Epoch 39/80\n",
      "100/100 [==============================] - 1s - loss: 0.5003 - acc: 0.8356 - val_loss: 0.5583 - val_acc: 0.8423\n",
      "Epoch 40/80\n",
      "100/100 [==============================] - 1s - loss: 0.4972 - acc: 0.8400 - val_loss: 0.5746 - val_acc: 0.8044\n",
      "Epoch 41/80\n",
      "100/100 [==============================] - 1s - loss: 0.4821 - acc: 0.8503 - val_loss: 0.5683 - val_acc: 0.8044\n",
      "Epoch 42/80\n",
      "100/100 [==============================] - 1s - loss: 0.4771 - acc: 0.8462 - val_loss: 0.5972 - val_acc: 0.8139\n",
      "Epoch 43/80\n",
      "100/100 [==============================] - 1s - loss: 0.4910 - acc: 0.8372 - val_loss: 0.5599 - val_acc: 0.8044\n",
      "Epoch 44/80\n",
      "100/100 [==============================] - 1s - loss: 0.4950 - acc: 0.8334 - val_loss: 0.5164 - val_acc: 0.8328\n",
      "Epoch 45/80\n",
      "100/100 [==============================] - 1s - loss: 0.4654 - acc: 0.8531 - val_loss: 0.5520 - val_acc: 0.8107\n",
      "Epoch 46/80\n",
      "100/100 [==============================] - 0s - loss: 0.4857 - acc: 0.8303 - val_loss: 0.5479 - val_acc: 0.8107\n",
      "Epoch 47/80\n",
      "100/100 [==============================] - 1s - loss: 0.5092 - acc: 0.8378 - val_loss: 0.6060 - val_acc: 0.8170\n",
      "Epoch 48/80\n",
      "100/100 [==============================] - 1s - loss: 0.4742 - acc: 0.8512 - val_loss: 0.4527 - val_acc: 0.8675\n",
      "Epoch 49/80\n",
      "100/100 [==============================] - 1s - loss: 0.4437 - acc: 0.8469 - val_loss: 0.4655 - val_acc: 0.8517\n",
      "Epoch 50/80\n",
      "100/100 [==============================] - 1s - loss: 0.4296 - acc: 0.8625 - val_loss: 0.3998 - val_acc: 0.8675\n",
      "Epoch 51/80\n",
      "100/100 [==============================] - 1s - loss: 0.4411 - acc: 0.8578 - val_loss: 0.4111 - val_acc: 0.8612\n",
      "Epoch 52/80\n",
      "100/100 [==============================] - 0s - loss: 0.4121 - acc: 0.8594 - val_loss: 0.4224 - val_acc: 0.8612\n",
      "Epoch 53/80\n",
      "100/100 [==============================] - 1s - loss: 0.4297 - acc: 0.8609 - val_loss: 0.4330 - val_acc: 0.8580\n",
      "Epoch 54/80\n",
      "100/100 [==============================] - 1s - loss: 0.4159 - acc: 0.8619 - val_loss: 0.4507 - val_acc: 0.8801\n",
      "Epoch 55/80\n",
      "100/100 [==============================] - 1s - loss: 0.4008 - acc: 0.8669 - val_loss: 0.4227 - val_acc: 0.8580\n",
      "Epoch 56/80\n",
      "100/100 [==============================] - 1s - loss: 0.4121 - acc: 0.8656 - val_loss: 0.4249 - val_acc: 0.8644\n",
      "Epoch 57/80\n",
      "100/100 [==============================] - 1s - loss: 0.4246 - acc: 0.8500 - val_loss: 0.4277 - val_acc: 0.8675\n",
      "Epoch 58/80\n",
      "100/100 [==============================] - 1s - loss: 0.4096 - acc: 0.8591 - val_loss: 0.4898 - val_acc: 0.8423\n",
      "Epoch 59/80\n",
      "100/100 [==============================] - 0s - loss: 0.3996 - acc: 0.8741 - val_loss: 0.4056 - val_acc: 0.8770\n",
      "Epoch 60/80\n",
      "100/100 [==============================] - 1s - loss: 0.3967 - acc: 0.8744 - val_loss: 0.4204 - val_acc: 0.8549\n",
      "Epoch 61/80\n",
      "100/100 [==============================] - 0s - loss: 0.4374 - acc: 0.8606 - val_loss: 0.4952 - val_acc: 0.8233\n",
      "Epoch 62/80\n",
      "100/100 [==============================] - 1s - loss: 0.3948 - acc: 0.8700 - val_loss: 0.4362 - val_acc: 0.8517\n",
      "Epoch 63/80\n",
      "100/100 [==============================] - 0s - loss: 0.4093 - acc: 0.8678 - val_loss: 0.4448 - val_acc: 0.8486\n",
      "Epoch 64/80\n",
      "100/100 [==============================] - 0s - loss: 0.3783 - acc: 0.8784 - val_loss: 0.4530 - val_acc: 0.8391\n",
      "Epoch 65/80\n",
      "100/100 [==============================] - 0s - loss: 0.3841 - acc: 0.8725 - val_loss: 0.3718 - val_acc: 0.8770\n",
      "Epoch 66/80\n",
      "100/100 [==============================] - 0s - loss: 0.3577 - acc: 0.8812 - val_loss: 0.3776 - val_acc: 0.8707\n",
      "Epoch 67/80\n"
     ]
    },
    {
     "name": "stdout",
     "output_type": "stream",
     "text": [
      "100/100 [==============================] - 1s - loss: 0.3711 - acc: 0.8878 - val_loss: 0.4342 - val_acc: 0.8644\n",
      "Epoch 68/80\n",
      "100/100 [==============================] - 0s - loss: 0.3859 - acc: 0.8703 - val_loss: 0.4174 - val_acc: 0.8612\n",
      "Epoch 69/80\n",
      "100/100 [==============================] - 0s - loss: 0.3435 - acc: 0.8875 - val_loss: 0.3592 - val_acc: 0.8896\n",
      "Epoch 70/80\n",
      "100/100 [==============================] - 1s - loss: 0.3565 - acc: 0.8841 - val_loss: 0.4097 - val_acc: 0.8770\n",
      "Epoch 71/80\n",
      "100/100 [==============================] - 1s - loss: 0.3770 - acc: 0.8787 - val_loss: 0.4555 - val_acc: 0.8580\n",
      "Epoch 72/80\n",
      "100/100 [==============================] - 1s - loss: 0.3832 - acc: 0.8744 - val_loss: 0.4653 - val_acc: 0.8360\n",
      "Epoch 73/80\n",
      "100/100 [==============================] - 1s - loss: 0.3631 - acc: 0.8828 - val_loss: 0.3950 - val_acc: 0.8360\n",
      "Epoch 74/80\n",
      "100/100 [==============================] - 1s - loss: 0.3454 - acc: 0.8847 - val_loss: 0.3325 - val_acc: 0.8896\n",
      "Epoch 75/80\n",
      "100/100 [==============================] - 1s - loss: 0.3584 - acc: 0.8816 - val_loss: 0.4013 - val_acc: 0.8738\n",
      "Epoch 76/80\n",
      "100/100 [==============================] - 1s - loss: 0.3721 - acc: 0.8741 - val_loss: 0.4243 - val_acc: 0.8738\n",
      "Epoch 77/80\n",
      "100/100 [==============================] - 1s - loss: 0.3801 - acc: 0.8775 - val_loss: 0.3862 - val_acc: 0.8801\n",
      "Epoch 78/80\n",
      "100/100 [==============================] - 0s - loss: 0.3433 - acc: 0.8850 - val_loss: 0.3792 - val_acc: 0.8864\n",
      "Epoch 79/80\n",
      "100/100 [==============================] - 0s - loss: 0.3764 - acc: 0.8738 - val_loss: 0.4029 - val_acc: 0.8675\n",
      "Epoch 80/80\n",
      "100/100 [==============================] - 1s - loss: 0.3761 - acc: 0.8769 - val_loss: 0.3589 - val_acc: 0.8864\n"
     ]
    }
   ],
   "source": [
    "# Train best model\n",
    "model = build_model(num_classes, 1e-6)\n",
    "history = train(model, data, gen, epochs=80)"
   ]
  },
  {
   "cell_type": "code",
   "execution_count": 167,
   "metadata": {},
   "outputs": [
    {
     "data": {
      "image/png": "[encoded data removed]",
      "text/plain": [
       "<matplotlib.figure.Figure at 0x1add05e80>"
      ]
     },
     "metadata": {},
     "output_type": "display_data"
    },
    {
     "data": {
      "image/png": "[encoded data removed]",
      "text/plain": [
       "<matplotlib.figure.Figure at 0x1a6fa7ef0>"
      ]
     },
     "metadata": {},
     "output_type": "display_data"
    }
   ],
   "source": [
    "plt.figure()\n",
    "plt.title('Loss')\n",
    "plt.plot(history.history['loss'], label='Train')\n",
    "plt.plot(history.history['val_loss'], label='Valid')\n",
    "plt.legend()\n",
    "plt.show()\n",
    "plt.figure()\n",
    "plt.title('Accuracy')\n",
    "plt.plot(history.history['acc'], label='Train')\n",
    "plt.plot(history.history['val_acc'], label='Valid')\n",
    "plt.legend()\n",
    "plt.show()"
   ]
  },
  {
   "cell_type": "code",
   "execution_count": 168,
   "metadata": {},
   "outputs": [
    {
     "name": "stdout",
     "output_type": "stream",
     "text": [
      "Test accuracy: 0.977098387993\n",
      "             precision    recall  f1-score   support\n",
      "\n",
      "          0       0.96      0.86      0.91       483\n",
      "          1       0.88      0.95      0.91        83\n",
      "          2       0.85      0.92      0.88       232\n",
      "          3       0.90      0.93      0.92        29\n",
      "          4       0.93      0.84      0.88       461\n",
      "          5       0.85      0.94      0.89        35\n",
      "          6       0.28      1.00      0.44        14\n",
      "          7       0.76      1.00      0.86        44\n",
      "          8       0.74      0.95      0.83        94\n",
      "          9       0.94      0.90      0.92       324\n",
      "\n",
      "avg / total       0.90      0.89      0.89      1799\n",
      "\n"
     ]
    }
   ],
   "source": [
    "y_pred = model.predict(data['X_test'])\n",
    "y_pred = to_categorical(np.argmax(y_pred, axis=1), num_classes)\n",
    "test_acc = np.mean(y_pred == data['y_test'])\n",
    "print('Test accuracy: ' + str(test_acc))\n",
    "print(classification_report(data['y_test'], y_pred))"
   ]
  },
  {
   "cell_type": "code",
   "execution_count": 92,
   "metadata": {},
   "outputs": [
    {
     "name": "stdout",
     "output_type": "stream",
     "text": [
      "Embedding answers...\n"
     ]
    }
   ],
   "source": [
    "import word2vec\n",
    "import matplotlib.pyplot as plt\n",
    "embedder = word2vec.Embedder()"
   ]
  },
  {
   "cell_type": "code",
   "execution_count": 138,
   "metadata": {},
   "outputs": [],
   "source": [
    "def plot_pred(y_pred):\n",
    "    ind = np.arange(num_classes)  # the x locations for the groups\n",
    "    width = 0.35                  # the width of the bars\n",
    "\n",
    "    fig, ax = plt.subplots()\n",
    "    rects1 = ax.bar(ind, y_pred.ravel())\n",
    "\n",
    "    # add some text for labels, title and axes ticks\n",
    "    ax.set_ylabel('Probabilité')\n",
    "    ax.set_title('Sujet')\n",
    "    ax.set_xticks(ind)\n",
    "    ax.set_xticklabels(short_labels, rotation=70)\n",
    "\n",
    "    plt.show()"
   ]
  },
  {
   "cell_type": "code",
   "execution_count": 185,
   "metadata": {},
   "outputs": [
    {
     "data": {
      "image/png": "[encoded data removed]",
      "text/plain": [
       "<matplotlib.figure.Figure at 0x1b11465f8>"
      ]
     },
     "metadata": {},
     "output_type": "display_data"
    }
   ],
   "source": [
    "test_ans = embedder.embed_phrase('urgence')\n",
    "somme = np.sum(np.abs(test_ans))\n",
    "if somme < 1e-3:\n",
    "    print('Mots inconnus. Somme: ' + str(somme))\n",
    "y_pred = model.predict(test_ans[None, :])\n",
    "plot_pred(y_pred)"
   ]
  },
  {
   "cell_type": "code",
   "execution_count": null,
   "metadata": {
    "collapsed": true
   },
   "outputs": [],
   "source": []
  }
 ],
 "metadata": {
  "kernelspec": {
   "display_name": "Python 3",
   "language": "python",
   "name": "python3"
  },
  "language_info": {
   "codemirror_mode": {
    "name": "ipython",
    "version": 3
   },
   "file_extension": ".py",
   "mimetype": "text/x-python",
   "name": "python",
   "nbconvert_exporter": "python",
   "pygments_lexer": "ipython3",
   "version": "3.6.1"
  }
 },
 "nbformat": 4,
 "nbformat_minor": 2
}
