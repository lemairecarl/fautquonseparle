{
 "cells": [
  {
   "cell_type": "markdown",
   "metadata": {},
   "source": [
    "# TODO\n",
    "* Evaluer erreurs\n",
    "* Voir les associations mots->classe\n",
    "* Voir les ech. qui activent certaines classes\n",
    "* Éviter les cas d'overlap! (Val 85  Test 190)"
   ]
  },
  {
   "cell_type": "code",
   "execution_count": 30,
   "metadata": {
    "scrolled": true
   },
   "outputs": [
    {
     "name": "stdout",
     "output_type": "stream",
     "text": [
      "The autoreload extension is already loaded. To reload it, use:\n",
      "  %reload_ext autoreload\n"
     ]
    }
   ],
   "source": [
    "import pickle\n",
    "import numpy as np\n",
    "import matplotlib.pyplot as plt\n",
    "from keras.models import Sequential, Model\n",
    "from keras.layers import Dense, BatchNormalization, Input\n",
    "from keras.layers.merge import Add\n",
    "from keras.utils import to_categorical\n",
    "from keras.regularizers import l2\n",
    "from keras.optimizers import SGD\n",
    "\n",
    "from sklearn.metrics import classification_report\n",
    "\n",
    "import classif\n",
    "\n",
    "%matplotlib inline\n",
    "plt.rcParams['image.cmap'] = 'jet'\n",
    "%load_ext autoreload\n",
    "%autoreload 2"
   ]
  },
  {
   "cell_type": "code",
   "execution_count": 47,
   "metadata": {},
   "outputs": [
    {
     "name": "stdout",
     "output_type": "stream",
     "text": [
      "N train, val, test: 3172 317 1799\n"
     ]
    }
   ],
   "source": [
    "data, num_classes, gen, gen_dual, dual_data = classif.load_data()\n",
    "\n",
    "count_size = data['X_train'][1].shape[1]\n",
    "\n",
    "q_labels = ['Démocratie: Comment reprendre le pouvoir?',\n",
    "'Économie: Comment développer le Québec selon nos priorités?',\n",
    "'Régions: Comment dynamiser toutes nos communautés?',\n",
    "'Indépendance: Comment se remettre en marche?',\n",
    "'Éducation: Comment permettre à tout le monde de réaliser son plein potentiel?',\n",
    "'Premiers Peuples: Comment construire la solidarité entre nous?',\n",
    "'Diversité: Comment vivre ensemble sans racisme ni discrimination?',\n",
    "'Culture: Comment favoriser une création artistique vivante et en assurer l’accès à tous?',\n",
    "'Santé: Comment prendre soin de tout le monde?',\n",
    "'Climat: Comment enclencher la transition?']\n",
    "\n",
    "short_labels = ['Démocratie',\n",
    "'Économie',\n",
    "'Régions',\n",
    "'Indépendance',\n",
    "'Éducation',\n",
    "'Premiers Peuples',\n",
    "'Diversité',\n",
    "'Culture',\n",
    "'Santé',\n",
    "'Climat']"
   ]
  },
  {
   "cell_type": "code",
   "execution_count": 54,
   "metadata": {
    "collapsed": true
   },
   "outputs": [],
   "source": [
    "def build_model(num_classes, l2_reg):\n",
    "    model = Sequential()\n",
    "    model.add(BatchNormalization(input_shape=(64,), gamma_regularizer=l2(l2_reg)))\n",
    "    model.add(Dense(256, activation='relu', kernel_regularizer=l2(l2_reg)))\n",
    "    model.add(BatchNormalization(gamma_regularizer=l2(l2_reg)))\n",
    "    model.add(Dense(1024, activation='relu', kernel_regularizer=l2(l2_reg)))\n",
    "    model.add(BatchNormalization(gamma_regularizer=l2(l2_reg)))\n",
    "    model.add(Dense(1024, activation='relu', kernel_regularizer=l2(l2_reg)))\n",
    "    model.add(BatchNormalization(gamma_regularizer=l2(l2_reg)))\n",
    "    model.add(Dense(num_classes, activation='softmax', kernel_regularizer=l2(l2_reg)))\n",
    "    \n",
    "    model.compile('adam', 'categorical_crossentropy', metrics=['acc'])\n",
    "    return model\n",
    "\n",
    "def build_model_dual(num_classes, count_size, lr, l2_reg):\n",
    "    embed_in = Input(shape=(64,))\n",
    "    count_in = Input(shape=(count_size,))\n",
    "    count_embed = Dense(64)(count_in)\n",
    "    reembed = Add()([embed_in, count_embed])\n",
    "    x = BatchNormalization(gamma_regularizer=l2(l2_reg))(reembed)\n",
    "    x = Dense(256, activation='relu', kernel_regularizer=l2(l2_reg))(x)\n",
    "    x = BatchNormalization(gamma_regularizer=l2(l2_reg))(x)\n",
    "    x = Dense(1024, activation='relu', kernel_regularizer=l2(l2_reg))(x)\n",
    "    x = BatchNormalization(gamma_regularizer=l2(l2_reg))(x)\n",
    "    x = Dense(1024, activation='relu', kernel_regularizer=l2(l2_reg))(x)\n",
    "    codes = BatchNormalization(gamma_regularizer=l2(l2_reg))(x)\n",
    "    x = Dense(num_classes, activation='softmax', kernel_regularizer=l2(l2_reg), name='preds')(codes)\n",
    "    model = Model([embed_in, count_in], [x, codes])\n",
    "    optimizer = SGD(lr=lr)  # TODO set decay\n",
    "    model.compile(optimizer, ['categorical_crossentropy', None], metrics=['acc'])\n",
    "    return model"
   ]
  },
  {
   "cell_type": "code",
   "execution_count": 32,
   "metadata": {},
   "outputs": [
    {
     "name": "stdout",
     "output_type": "stream",
     "text": [
      "Trying: lr 0.015625  reg 1e-06\n",
      "Training...\n",
      "Val acc: 0.968454260743\n",
      "Trying: lr 0.015625  reg 1e-05\n",
      "Training...\n",
      "Val acc: 0.962145112478\n",
      "Trying: lr 0.015625  reg 0.0001\n",
      "Training...\n",
      "Val acc: 0.971608834876\n",
      "Trying: lr 0.03125  reg 1e-06\n",
      "Training...\n",
      "Val acc: 0.965299686611\n",
      "Trying: lr 0.03125  reg 1e-05\n",
      "Training...\n",
      "Val acc: 0.981072557273\n",
      "Trying: lr 0.03125  reg 0.0001\n",
      "Training...\n",
      "Val acc: 0.96529968285\n",
      "Trying: lr 0.0625  reg 1e-06\n",
      "Training...\n",
      "Val acc: 0.971608834876\n",
      "Trying: lr 0.0625  reg 1e-05\n",
      "Training...\n",
      "Val acc: 0.949526812564\n",
      "Trying: lr 0.0625  reg 0.0001\n",
      "Training...\n",
      "Val acc: 0.95268138632\n",
      "Trying: lr 0.125  reg 1e-06\n",
      "Training...\n",
      "Val acc: 0.933753941901\n",
      "Trying: lr 0.125  reg 1e-05\n",
      "Training...\n",
      "Val acc: 0.955835962521\n",
      "Trying: lr 0.125  reg 0.0001\n",
      "Training...\n",
      "Val acc: 0.952681386696\n"
     ]
    }
   ],
   "source": [
    "# Perform grid search\n",
    "# best l2_reg = 0.01\n",
    "from itertools import product as itprod\n",
    "lr_list = 2. ** np.array([-6, -5, -4, -3])\n",
    "reg_list = [1e-6, 1e-5, 1e-4]\n",
    "#results = {}\n",
    "\n",
    "for lr, reg in itprod(lr_list, reg_list):\n",
    "    print('Trying: lr {}  reg {}'.format(lr, reg))\n",
    "    model = build_model_dual(num_classes, count_size, lr=lr, l2_reg=reg)\n",
    "    history = classif.train(model, data, gen_dual, verbose=0, epochs=30)\n",
    "    val_acc = np.max(history.history['val_acc'])\n",
    "    print('Val acc: ' + str(val_acc))\n",
    "    results[lr, reg] = val_acc"
   ]
  },
  {
   "cell_type": "code",
   "execution_count": 33,
   "metadata": {},
   "outputs": [
    {
     "data": {
      "image/png": "[encoded data removed]",
      "text/plain": [
       "<matplotlib.figure.Figure at 0x155c00eb8>"
      ]
     },
     "metadata": {},
     "output_type": "display_data"
    }
   ],
   "source": [
    "# Visualize the cross-validation results\n",
    "import math\n",
    "x_scatter = [np.log2(x[0]) for x in results]\n",
    "y_scatter = [np.log10(x[1]) for x in results]\n",
    "\n",
    "# plot training accuracy\n",
    "marker_size = 100\n",
    "colors = [results[x] for x in results]\n",
    "plt.scatter(x_scatter, y_scatter, marker_size, c=colors)\n",
    "plt.colorbar()\n",
    "plt.xlabel('log learning rate')\n",
    "plt.ylabel('log regularization strength')\n",
    "plt.title('Validation accuracy')\n",
    "plt.show()"
   ]
  },
  {
   "cell_type": "code",
   "execution_count": 59,
   "metadata": {
    "scrolled": true
   },
   "outputs": [
    {
     "name": "stdout",
     "output_type": "stream",
     "text": [
      "Training...\n",
      "Epoch 1/100\n",
      "100/100 [==============================] - 6s - loss: 2.2476 - preds_loss: 2.2476 - preds_acc: 0.4309 - val_loss: 1.8387 - val_preds_loss: 1.8387 - val_preds_acc: 0.4353\n",
      "Epoch 2/100\n",
      "100/100 [==============================] - 1s - loss: 1.3773 - preds_loss: 1.3773 - preds_acc: 0.5962 - val_loss: 1.4548 - val_preds_loss: 1.4548 - val_preds_acc: 0.5142\n",
      "Epoch 3/100\n",
      "100/100 [==============================] - 1s - loss: 1.1722 - preds_loss: 1.1722 - preds_acc: 0.6428 - val_loss: 1.2862 - val_preds_loss: 1.2862 - val_preds_acc: 0.5615\n",
      "Epoch 4/100\n",
      "100/100 [==============================] - 1s - loss: 1.0183 - preds_loss: 1.0183 - preds_acc: 0.6966 - val_loss: 1.1573 - val_preds_loss: 1.1573 - val_preds_acc: 0.6498\n",
      "Epoch 5/100\n",
      "100/100 [==============================] - 1s - loss: 0.8486 - preds_loss: 0.8486 - preds_acc: 0.7434 - val_loss: 1.1201 - val_preds_loss: 1.1201 - val_preds_acc: 0.6498\n",
      "Epoch 6/100\n",
      "100/100 [==============================] - 1s - loss: 0.7642 - preds_loss: 0.7642 - preds_acc: 0.7619 - val_loss: 1.0199 - val_preds_loss: 1.0199 - val_preds_acc: 0.6782\n",
      "Epoch 7/100\n",
      "100/100 [==============================] - 1s - loss: 0.6834 - preds_loss: 0.6834 - preds_acc: 0.7909 - val_loss: 0.9645 - val_preds_loss: 0.9645 - val_preds_acc: 0.6845\n",
      "Epoch 8/100\n",
      "100/100 [==============================] - 1s - loss: 0.6360 - preds_loss: 0.6360 - preds_acc: 0.8031 - val_loss: 0.8496 - val_preds_loss: 0.8496 - val_preds_acc: 0.7382\n",
      "Epoch 9/100\n",
      "100/100 [==============================] - 1s - loss: 0.5779 - preds_loss: 0.5779 - preds_acc: 0.8159 - val_loss: 0.6954 - val_preds_loss: 0.6954 - val_preds_acc: 0.7603\n",
      "Epoch 10/100\n",
      "100/100 [==============================] - 1s - loss: 0.4919 - preds_loss: 0.4919 - preds_acc: 0.8384 - val_loss: 0.8095 - val_preds_loss: 0.8095 - val_preds_acc: 0.7603\n",
      "Epoch 11/100\n",
      "100/100 [==============================] - 1s - loss: 0.4914 - preds_loss: 0.4914 - preds_acc: 0.8434 - val_loss: 0.7716 - val_preds_loss: 0.7716 - val_preds_acc: 0.7697\n",
      "Epoch 12/100\n",
      "100/100 [==============================] - 1s - loss: 0.4060 - preds_loss: 0.4060 - preds_acc: 0.8656 - val_loss: 0.6311 - val_preds_loss: 0.6311 - val_preds_acc: 0.8107\n",
      "Epoch 13/100\n",
      "100/100 [==============================] - 1s - loss: 0.4047 - preds_loss: 0.4047 - preds_acc: 0.8709 - val_loss: 0.6604 - val_preds_loss: 0.6604 - val_preds_acc: 0.7823\n",
      "Epoch 14/100\n",
      "100/100 [==============================] - 1s - loss: 0.3889 - preds_loss: 0.3889 - preds_acc: 0.8725 - val_loss: 0.5330 - val_preds_loss: 0.5330 - val_preds_acc: 0.8233\n",
      "Epoch 15/100\n",
      "100/100 [==============================] - 1s - loss: 0.3373 - preds_loss: 0.3373 - preds_acc: 0.8881 - val_loss: 0.5618 - val_preds_loss: 0.5618 - val_preds_acc: 0.8233\n",
      "Epoch 16/100\n",
      "100/100 [==============================] - 1s - loss: 0.3614 - preds_loss: 0.3614 - preds_acc: 0.8819 - val_loss: 0.4592 - val_preds_loss: 0.4592 - val_preds_acc: 0.8612\n",
      "Epoch 17/100\n",
      "100/100 [==============================] - 1s - loss: 0.3534 - preds_loss: 0.3534 - preds_acc: 0.8859 - val_loss: 0.4207 - val_preds_loss: 0.4207 - val_preds_acc: 0.8612\n",
      "Epoch 18/100\n",
      "100/100 [==============================] - 1s - loss: 0.2948 - preds_loss: 0.2948 - preds_acc: 0.9100 - val_loss: 0.4352 - val_preds_loss: 0.4352 - val_preds_acc: 0.8423\n",
      "Epoch 19/100\n",
      "100/100 [==============================] - 1s - loss: 0.2557 - preds_loss: 0.2557 - preds_acc: 0.9137 - val_loss: 0.4359 - val_preds_loss: 0.4359 - val_preds_acc: 0.8328\n",
      "Epoch 20/100\n",
      "100/100 [==============================] - 1s - loss: 0.2470 - preds_loss: 0.2470 - preds_acc: 0.9191 - val_loss: 0.2944 - val_preds_loss: 0.2944 - val_preds_acc: 0.8927\n",
      "Epoch 21/100\n",
      "100/100 [==============================] - 1s - loss: 0.2633 - preds_loss: 0.2633 - preds_acc: 0.9153 - val_loss: 0.2801 - val_preds_loss: 0.2801 - val_preds_acc: 0.8896\n",
      "Epoch 22/100\n",
      "100/100 [==============================] - 1s - loss: 0.2455 - preds_loss: 0.2455 - preds_acc: 0.9181 - val_loss: 0.3186 - val_preds_loss: 0.3186 - val_preds_acc: 0.8896\n",
      "Epoch 23/100\n",
      "100/100 [==============================] - 1s - loss: 0.2218 - preds_loss: 0.2218 - preds_acc: 0.9253 - val_loss: 0.2717 - val_preds_loss: 0.2717 - val_preds_acc: 0.8991\n",
      "Epoch 24/100\n",
      "100/100 [==============================] - 1s - loss: 0.2314 - preds_loss: 0.2314 - preds_acc: 0.9272 - val_loss: 0.2908 - val_preds_loss: 0.2908 - val_preds_acc: 0.9054\n",
      "Epoch 25/100\n",
      "100/100 [==============================] - 1s - loss: 0.2154 - preds_loss: 0.2154 - preds_acc: 0.9287 - val_loss: 0.2511 - val_preds_loss: 0.2511 - val_preds_acc: 0.9338\n",
      "Epoch 26/100\n",
      "100/100 [==============================] - 1s - loss: 0.2080 - preds_loss: 0.2080 - preds_acc: 0.9350 - val_loss: 0.2387 - val_preds_loss: 0.2387 - val_preds_acc: 0.9306\n",
      "Epoch 27/100\n",
      "100/100 [==============================] - 1s - loss: 0.1879 - preds_loss: 0.1879 - preds_acc: 0.9403 - val_loss: 0.2228 - val_preds_loss: 0.2228 - val_preds_acc: 0.9243\n",
      "Epoch 28/100\n",
      "100/100 [==============================] - 1s - loss: 0.1750 - preds_loss: 0.1750 - preds_acc: 0.9406 - val_loss: 0.2082 - val_preds_loss: 0.2082 - val_preds_acc: 0.9243\n",
      "Epoch 29/100\n",
      "100/100 [==============================] - 1s - loss: 0.1580 - preds_loss: 0.1580 - preds_acc: 0.9472 - val_loss: 0.1670 - val_preds_loss: 0.1670 - val_preds_acc: 0.9401\n",
      "Epoch 30/100\n",
      "100/100 [==============================] - 1s - loss: 0.1862 - preds_loss: 0.1862 - preds_acc: 0.9397 - val_loss: 0.1360 - val_preds_loss: 0.1360 - val_preds_acc: 0.9558\n",
      "Epoch 31/100\n",
      "100/100 [==============================] - 1s - loss: 0.1540 - preds_loss: 0.1540 - preds_acc: 0.9447 - val_loss: 0.1522 - val_preds_loss: 0.1522 - val_preds_acc: 0.9306\n",
      "Epoch 32/100\n",
      "100/100 [==============================] - 1s - loss: 0.1386 - preds_loss: 0.1386 - preds_acc: 0.9562 - val_loss: 0.1611 - val_preds_loss: 0.1611 - val_preds_acc: 0.9432\n",
      "Epoch 33/100\n",
      "100/100 [==============================] - 1s - loss: 0.1391 - preds_loss: 0.1391 - preds_acc: 0.9519 - val_loss: 0.1326 - val_preds_loss: 0.1326 - val_preds_acc: 0.9464\n",
      "Epoch 34/100\n",
      "100/100 [==============================] - 1s - loss: 0.1382 - preds_loss: 0.1382 - preds_acc: 0.9528 - val_loss: 0.1083 - val_preds_loss: 0.1083 - val_preds_acc: 0.9685\n",
      "Epoch 35/100\n",
      "100/100 [==============================] - 1s - loss: 0.1555 - preds_loss: 0.1555 - preds_acc: 0.9453 - val_loss: 0.0956 - val_preds_loss: 0.0956 - val_preds_acc: 0.9685\n",
      "Epoch 36/100\n",
      "100/100 [==============================] - 1s - loss: 0.1143 - preds_loss: 0.1143 - preds_acc: 0.9637 - val_loss: 0.1105 - val_preds_loss: 0.1105 - val_preds_acc: 0.9558\n",
      "Epoch 37/100\n",
      "100/100 [==============================] - 1s - loss: 0.1199 - preds_loss: 0.1199 - preds_acc: 0.9603 - val_loss: 0.0879 - val_preds_loss: 0.0879 - val_preds_acc: 0.9685\n",
      "Epoch 38/100\n",
      "100/100 [==============================] - 1s - loss: 0.1335 - preds_loss: 0.1335 - preds_acc: 0.9559 - val_loss: 0.1001 - val_preds_loss: 0.1001 - val_preds_acc: 0.9716\n",
      "Epoch 39/100\n",
      "100/100 [==============================] - 1s - loss: 0.1178 - preds_loss: 0.1178 - preds_acc: 0.9625 - val_loss: 0.1016 - val_preds_loss: 0.1016 - val_preds_acc: 0.9590\n",
      "Epoch 40/100\n",
      "100/100 [==============================] - 1s - loss: 0.1292 - preds_loss: 0.1292 - preds_acc: 0.9553 - val_loss: 0.1239 - val_preds_loss: 0.1239 - val_preds_acc: 0.9495\n",
      "Epoch 41/100\n",
      "100/100 [==============================] - 1s - loss: 0.0880 - preds_loss: 0.0880 - preds_acc: 0.9712 - val_loss: 0.0897 - val_preds_loss: 0.0897 - val_preds_acc: 0.9685\n",
      "Epoch 42/100\n",
      "100/100 [==============================] - 1s - loss: 0.0879 - preds_loss: 0.0879 - preds_acc: 0.9694 - val_loss: 0.0725 - val_preds_loss: 0.0725 - val_preds_acc: 0.9874\n",
      "Epoch 43/100\n",
      "100/100 [==============================] - 1s - loss: 0.0822 - preds_loss: 0.0822 - preds_acc: 0.9716 - val_loss: 0.0563 - val_preds_loss: 0.0563 - val_preds_acc: 0.9716\n",
      "Epoch 44/100\n",
      "100/100 [==============================] - 1s - loss: 0.0748 - preds_loss: 0.0748 - preds_acc: 0.9741 - val_loss: 0.0663 - val_preds_loss: 0.0663 - val_preds_acc: 0.9779\n",
      "Epoch 45/100\n"
     ]
    },
    {
     "name": "stdout",
     "output_type": "stream",
     "text": [
      "100/100 [==============================] - 1s - loss: 0.0849 - preds_loss: 0.0849 - preds_acc: 0.9700 - val_loss: 0.0671 - val_preds_loss: 0.0671 - val_preds_acc: 0.9779\n",
      "Epoch 46/100\n",
      "100/100 [==============================] - 1s - loss: 0.0789 - preds_loss: 0.0789 - preds_acc: 0.9756 - val_loss: 0.0572 - val_preds_loss: 0.0572 - val_preds_acc: 0.9874\n",
      "Epoch 47/100\n",
      "100/100 [==============================] - 1s - loss: 0.1076 - preds_loss: 0.1076 - preds_acc: 0.9625 - val_loss: 0.0648 - val_preds_loss: 0.0648 - val_preds_acc: 0.9779\n",
      "Epoch 48/100\n",
      "100/100 [==============================] - 1s - loss: 0.0986 - preds_loss: 0.0986 - preds_acc: 0.9712 - val_loss: 0.0466 - val_preds_loss: 0.0466 - val_preds_acc: 0.9811\n",
      "Epoch 49/100\n",
      "100/100 [==============================] - 1s - loss: 0.0768 - preds_loss: 0.0768 - preds_acc: 0.9744 - val_loss: 0.0477 - val_preds_loss: 0.0477 - val_preds_acc: 0.9811\n",
      "Epoch 50/100\n",
      "100/100 [==============================] - 1s - loss: 0.0860 - preds_loss: 0.0860 - preds_acc: 0.9731 - val_loss: 0.0507 - val_preds_loss: 0.0507 - val_preds_acc: 0.9874\n",
      "Epoch 51/100\n",
      "100/100 [==============================] - 1s - loss: 0.0651 - preds_loss: 0.0651 - preds_acc: 0.9788 - val_loss: 0.0432 - val_preds_loss: 0.0432 - val_preds_acc: 0.9905\n",
      "Epoch 52/100\n",
      "100/100 [==============================] - 1s - loss: 0.0588 - preds_loss: 0.0588 - preds_acc: 0.9803 - val_loss: 0.0524 - val_preds_loss: 0.0524 - val_preds_acc: 0.9811\n",
      "Epoch 53/100\n",
      "100/100 [==============================] - 1s - loss: 0.0606 - preds_loss: 0.0606 - preds_acc: 0.9778 - val_loss: 0.0469 - val_preds_loss: 0.0469 - val_preds_acc: 0.9874\n",
      "Epoch 54/100\n",
      "100/100 [==============================] - 1s - loss: 0.0521 - preds_loss: 0.0521 - preds_acc: 0.9831 - val_loss: 0.0591 - val_preds_loss: 0.0591 - val_preds_acc: 0.9811\n",
      "Epoch 55/100\n",
      "100/100 [==============================] - 1s - loss: 0.0689 - preds_loss: 0.0689 - preds_acc: 0.9772 - val_loss: 0.0585 - val_preds_loss: 0.0585 - val_preds_acc: 0.9779\n",
      "Epoch 56/100\n",
      "100/100 [==============================] - 1s - loss: 0.0473 - preds_loss: 0.0473 - preds_acc: 0.9856 - val_loss: 0.0538 - val_preds_loss: 0.0538 - val_preds_acc: 0.9811\n",
      "Epoch 57/100\n",
      "100/100 [==============================] - 1s - loss: 0.0605 - preds_loss: 0.0605 - preds_acc: 0.9803 - val_loss: 0.0351 - val_preds_loss: 0.0351 - val_preds_acc: 0.9905\n",
      "Epoch 58/100\n",
      "100/100 [==============================] - 1s - loss: 0.0609 - preds_loss: 0.0609 - preds_acc: 0.9813 - val_loss: 0.0473 - val_preds_loss: 0.0473 - val_preds_acc: 0.9842\n",
      "Epoch 59/100\n",
      "100/100 [==============================] - 1s - loss: 0.0628 - preds_loss: 0.0628 - preds_acc: 0.9800 - val_loss: 0.0671 - val_preds_loss: 0.0671 - val_preds_acc: 0.9842\n",
      "Epoch 60/100\n",
      "100/100 [==============================] - 1s - loss: 0.0546 - preds_loss: 0.0546 - preds_acc: 0.9813 - val_loss: 0.0456 - val_preds_loss: 0.0456 - val_preds_acc: 0.9874\n",
      "Epoch 61/100\n",
      "100/100 [==============================] - 1s - loss: 0.0501 - preds_loss: 0.0501 - preds_acc: 0.9841 - val_loss: 0.0430 - val_preds_loss: 0.0430 - val_preds_acc: 0.9874\n",
      "Epoch 62/100\n",
      "100/100 [==============================] - 1s - loss: 0.0515 - preds_loss: 0.0515 - preds_acc: 0.9803 - val_loss: 0.0293 - val_preds_loss: 0.0293 - val_preds_acc: 0.9905\n",
      "Epoch 63/100\n",
      "100/100 [==============================] - 1s - loss: 0.0523 - preds_loss: 0.0523 - preds_acc: 0.9838 - val_loss: 0.0433 - val_preds_loss: 0.0433 - val_preds_acc: 0.9874\n",
      "Epoch 64/100\n",
      "100/100 [==============================] - 1s - loss: 0.0580 - preds_loss: 0.0580 - preds_acc: 0.9800 - val_loss: 0.0314 - val_preds_loss: 0.0314 - val_preds_acc: 0.9874\n",
      "Epoch 65/100\n",
      "100/100 [==============================] - 1s - loss: 0.0321 - preds_loss: 0.0321 - preds_acc: 0.9887 - val_loss: 0.0299 - val_preds_loss: 0.0299 - val_preds_acc: 0.9905\n",
      "Epoch 66/100\n",
      "100/100 [==============================] - 1s - loss: 0.0382 - preds_loss: 0.0382 - preds_acc: 0.9869 - val_loss: 0.0247 - val_preds_loss: 0.0247 - val_preds_acc: 0.9937\n",
      "Epoch 67/100\n",
      "100/100 [==============================] - 1s - loss: 0.0396 - preds_loss: 0.0396 - preds_acc: 0.9878 - val_loss: 0.0361 - val_preds_loss: 0.0361 - val_preds_acc: 0.9905\n",
      "Epoch 68/100\n",
      "100/100 [==============================] - 1s - loss: 0.0330 - preds_loss: 0.0330 - preds_acc: 0.9900 - val_loss: 0.0286 - val_preds_loss: 0.0286 - val_preds_acc: 0.9968\n",
      "Epoch 69/100\n",
      "100/100 [==============================] - 1s - loss: 0.0325 - preds_loss: 0.0325 - preds_acc: 0.9894 - val_loss: 0.0191 - val_preds_loss: 0.0191 - val_preds_acc: 0.9968\n",
      "Epoch 70/100\n",
      "100/100 [==============================] - 1s - loss: 0.0382 - preds_loss: 0.0382 - preds_acc: 0.9878 - val_loss: 0.0352 - val_preds_loss: 0.0352 - val_preds_acc: 0.9905\n",
      "Epoch 71/100\n",
      " 82/100 [=======================>......] - ETA: 0s - loss: 0.0439 - preds_loss: 0.0439 - preds_acc: 0.9863"
     ]
    },
    {
     "ename": "KeyboardInterrupt",
     "evalue": "",
     "output_type": "error",
     "traceback": [
      "\u001b[0;31m---------------------------------------------------------------------------\u001b[0m",
      "\u001b[0;31mKeyboardInterrupt\u001b[0m                         Traceback (most recent call last)",
      "\u001b[0;32m<ipython-input-59-bebb995d3939>\u001b[0m in \u001b[0;36m<module>\u001b[0;34m()\u001b[0m\n\u001b[1;32m      1\u001b[0m \u001b[0;31m# Train best model\u001b[0m\u001b[0;34m\u001b[0m\u001b[0;34m\u001b[0m\u001b[0m\n\u001b[1;32m      2\u001b[0m \u001b[0mmodel\u001b[0m \u001b[0;34m=\u001b[0m \u001b[0mbuild_model_dual\u001b[0m\u001b[0;34m(\u001b[0m\u001b[0mnum_classes\u001b[0m\u001b[0;34m,\u001b[0m \u001b[0mcount_size\u001b[0m\u001b[0;34m=\u001b[0m\u001b[0mcount_size\u001b[0m\u001b[0;34m,\u001b[0m \u001b[0mlr\u001b[0m\u001b[0;34m=\u001b[0m\u001b[0;36m2\u001b[0m\u001b[0;34m**\u001b[0m\u001b[0;34m-\u001b[0m\u001b[0;36m4\u001b[0m\u001b[0;34m,\u001b[0m \u001b[0ml2_reg\u001b[0m\u001b[0;34m=\u001b[0m\u001b[0;36m0\u001b[0m\u001b[0;34m)\u001b[0m\u001b[0;34m\u001b[0m\u001b[0m\n\u001b[0;32m----> 3\u001b[0;31m \u001b[0mhistory\u001b[0m \u001b[0;34m=\u001b[0m \u001b[0mclassif\u001b[0m\u001b[0;34m.\u001b[0m\u001b[0mtrain\u001b[0m\u001b[0;34m(\u001b[0m\u001b[0mmodel\u001b[0m\u001b[0;34m,\u001b[0m \u001b[0mdata\u001b[0m\u001b[0;34m,\u001b[0m \u001b[0mgen_dual\u001b[0m\u001b[0;34m,\u001b[0m \u001b[0mepochs\u001b[0m\u001b[0;34m=\u001b[0m\u001b[0;36m100\u001b[0m\u001b[0;34m)\u001b[0m\u001b[0;34m\u001b[0m\u001b[0m\n\u001b[0m",
      "\u001b[0;32m/Users/carl/recherche/fautquonseparle/py/classif.py\u001b[0m in \u001b[0;36mtrain\u001b[0;34m(model, data, gen, verbose, epochs)\u001b[0m\n\u001b[1;32m    111\u001b[0m     \u001b[0;32mif\u001b[0m \u001b[0mgen\u001b[0m\u001b[0;34m:\u001b[0m\u001b[0;34m\u001b[0m\u001b[0m\n\u001b[1;32m    112\u001b[0m         history = model.fit_generator(gen(), 100, epochs=epochs, verbose=verbose,\n\u001b[0;32m--> 113\u001b[0;31m                                       validation_data=(data['X_val'], data['y_val']))\n\u001b[0m\u001b[1;32m    114\u001b[0m     \u001b[0;32melse\u001b[0m\u001b[0;34m:\u001b[0m\u001b[0;34m\u001b[0m\u001b[0m\n\u001b[1;32m    115\u001b[0m         history = model.fit(data['X_train'], data['y_train'],\n",
      "\u001b[0;32m/Users/carl/recherche/.env/lib/python3.6/site-packages/keras/legacy/interfaces.py\u001b[0m in \u001b[0;36mwrapper\u001b[0;34m(*args, **kwargs)\u001b[0m\n\u001b[1;32m     86\u001b[0m                 warnings.warn('Update your `' + object_name +\n\u001b[1;32m     87\u001b[0m                               '` call to the Keras 2 API: ' + signature, stacklevel=2)\n\u001b[0;32m---> 88\u001b[0;31m             \u001b[0;32mreturn\u001b[0m \u001b[0mfunc\u001b[0m\u001b[0;34m(\u001b[0m\u001b[0;34m*\u001b[0m\u001b[0margs\u001b[0m\u001b[0;34m,\u001b[0m \u001b[0;34m**\u001b[0m\u001b[0mkwargs\u001b[0m\u001b[0;34m)\u001b[0m\u001b[0;34m\u001b[0m\u001b[0m\n\u001b[0m\u001b[1;32m     89\u001b[0m         \u001b[0mwrapper\u001b[0m\u001b[0;34m.\u001b[0m\u001b[0m_legacy_support_signature\u001b[0m \u001b[0;34m=\u001b[0m \u001b[0minspect\u001b[0m\u001b[0;34m.\u001b[0m\u001b[0mgetargspec\u001b[0m\u001b[0;34m(\u001b[0m\u001b[0mfunc\u001b[0m\u001b[0;34m)\u001b[0m\u001b[0;34m\u001b[0m\u001b[0m\n\u001b[1;32m     90\u001b[0m         \u001b[0;32mreturn\u001b[0m \u001b[0mwrapper\u001b[0m\u001b[0;34m\u001b[0m\u001b[0m\n",
      "\u001b[0;32m/Users/carl/recherche/.env/lib/python3.6/site-packages/keras/engine/training.py\u001b[0m in \u001b[0;36mfit_generator\u001b[0;34m(self, generator, steps_per_epoch, epochs, verbose, callbacks, validation_data, validation_steps, class_weight, max_q_size, workers, pickle_safe, initial_epoch)\u001b[0m\n\u001b[1;32m   1875\u001b[0m                     outs = self.train_on_batch(x, y,\n\u001b[1;32m   1876\u001b[0m                                                \u001b[0msample_weight\u001b[0m\u001b[0;34m=\u001b[0m\u001b[0msample_weight\u001b[0m\u001b[0;34m,\u001b[0m\u001b[0;34m\u001b[0m\u001b[0m\n\u001b[0;32m-> 1877\u001b[0;31m                                                class_weight=class_weight)\n\u001b[0m\u001b[1;32m   1878\u001b[0m \u001b[0;34m\u001b[0m\u001b[0m\n\u001b[1;32m   1879\u001b[0m                     \u001b[0;32mif\u001b[0m \u001b[0;32mnot\u001b[0m \u001b[0misinstance\u001b[0m\u001b[0;34m(\u001b[0m\u001b[0mouts\u001b[0m\u001b[0;34m,\u001b[0m \u001b[0mlist\u001b[0m\u001b[0;34m)\u001b[0m\u001b[0;34m:\u001b[0m\u001b[0;34m\u001b[0m\u001b[0m\n",
      "\u001b[0;32m/Users/carl/recherche/.env/lib/python3.6/site-packages/keras/engine/training.py\u001b[0m in \u001b[0;36mtrain_on_batch\u001b[0;34m(self, x, y, sample_weight, class_weight)\u001b[0m\n\u001b[1;32m   1619\u001b[0m             \u001b[0mins\u001b[0m \u001b[0;34m=\u001b[0m \u001b[0mx\u001b[0m \u001b[0;34m+\u001b[0m \u001b[0my\u001b[0m \u001b[0;34m+\u001b[0m \u001b[0msample_weights\u001b[0m\u001b[0;34m\u001b[0m\u001b[0m\n\u001b[1;32m   1620\u001b[0m         \u001b[0mself\u001b[0m\u001b[0;34m.\u001b[0m\u001b[0m_make_train_function\u001b[0m\u001b[0;34m(\u001b[0m\u001b[0;34m)\u001b[0m\u001b[0;34m\u001b[0m\u001b[0m\n\u001b[0;32m-> 1621\u001b[0;31m         \u001b[0moutputs\u001b[0m \u001b[0;34m=\u001b[0m \u001b[0mself\u001b[0m\u001b[0;34m.\u001b[0m\u001b[0mtrain_function\u001b[0m\u001b[0;34m(\u001b[0m\u001b[0mins\u001b[0m\u001b[0;34m)\u001b[0m\u001b[0;34m\u001b[0m\u001b[0m\n\u001b[0m\u001b[1;32m   1622\u001b[0m         \u001b[0;32mif\u001b[0m \u001b[0mlen\u001b[0m\u001b[0;34m(\u001b[0m\u001b[0moutputs\u001b[0m\u001b[0;34m)\u001b[0m \u001b[0;34m==\u001b[0m \u001b[0;36m1\u001b[0m\u001b[0;34m:\u001b[0m\u001b[0;34m\u001b[0m\u001b[0m\n\u001b[1;32m   1623\u001b[0m             \u001b[0;32mreturn\u001b[0m \u001b[0moutputs\u001b[0m\u001b[0;34m[\u001b[0m\u001b[0;36m0\u001b[0m\u001b[0;34m]\u001b[0m\u001b[0;34m\u001b[0m\u001b[0m\n",
      "\u001b[0;32m/Users/carl/recherche/.env/lib/python3.6/site-packages/keras/backend/tensorflow_backend.py\u001b[0m in \u001b[0;36m__call__\u001b[0;34m(self, inputs)\u001b[0m\n\u001b[1;32m   2101\u001b[0m         \u001b[0msession\u001b[0m \u001b[0;34m=\u001b[0m \u001b[0mget_session\u001b[0m\u001b[0;34m(\u001b[0m\u001b[0;34m)\u001b[0m\u001b[0;34m\u001b[0m\u001b[0m\n\u001b[1;32m   2102\u001b[0m         updated = session.run(self.outputs + [self.updates_op],\n\u001b[0;32m-> 2103\u001b[0;31m                               feed_dict=feed_dict)\n\u001b[0m\u001b[1;32m   2104\u001b[0m         \u001b[0;32mreturn\u001b[0m \u001b[0mupdated\u001b[0m\u001b[0;34m[\u001b[0m\u001b[0;34m:\u001b[0m\u001b[0mlen\u001b[0m\u001b[0;34m(\u001b[0m\u001b[0mself\u001b[0m\u001b[0;34m.\u001b[0m\u001b[0moutputs\u001b[0m\u001b[0;34m)\u001b[0m\u001b[0;34m]\u001b[0m\u001b[0;34m\u001b[0m\u001b[0m\n\u001b[1;32m   2105\u001b[0m \u001b[0;34m\u001b[0m\u001b[0m\n",
      "\u001b[0;32m/Users/carl/recherche/.env/lib/python3.6/site-packages/tensorflow/python/client/session.py\u001b[0m in \u001b[0;36mrun\u001b[0;34m(self, fetches, feed_dict, options, run_metadata)\u001b[0m\n\u001b[1;32m    776\u001b[0m     \u001b[0;32mtry\u001b[0m\u001b[0;34m:\u001b[0m\u001b[0;34m\u001b[0m\u001b[0m\n\u001b[1;32m    777\u001b[0m       result = self._run(None, fetches, feed_dict, options_ptr,\n\u001b[0;32m--> 778\u001b[0;31m                          run_metadata_ptr)\n\u001b[0m\u001b[1;32m    779\u001b[0m       \u001b[0;32mif\u001b[0m \u001b[0mrun_metadata\u001b[0m\u001b[0;34m:\u001b[0m\u001b[0;34m\u001b[0m\u001b[0m\n\u001b[1;32m    780\u001b[0m         \u001b[0mproto_data\u001b[0m \u001b[0;34m=\u001b[0m \u001b[0mtf_session\u001b[0m\u001b[0;34m.\u001b[0m\u001b[0mTF_GetBuffer\u001b[0m\u001b[0;34m(\u001b[0m\u001b[0mrun_metadata_ptr\u001b[0m\u001b[0;34m)\u001b[0m\u001b[0;34m\u001b[0m\u001b[0m\n",
      "\u001b[0;32m/Users/carl/recherche/.env/lib/python3.6/site-packages/tensorflow/python/client/session.py\u001b[0m in \u001b[0;36m_run\u001b[0;34m(self, handle, fetches, feed_dict, options, run_metadata)\u001b[0m\n\u001b[1;32m    980\u001b[0m     \u001b[0;32mif\u001b[0m \u001b[0mfinal_fetches\u001b[0m \u001b[0;32mor\u001b[0m \u001b[0mfinal_targets\u001b[0m\u001b[0;34m:\u001b[0m\u001b[0;34m\u001b[0m\u001b[0m\n\u001b[1;32m    981\u001b[0m       results = self._do_run(handle, final_targets, final_fetches,\n\u001b[0;32m--> 982\u001b[0;31m                              feed_dict_string, options, run_metadata)\n\u001b[0m\u001b[1;32m    983\u001b[0m     \u001b[0;32melse\u001b[0m\u001b[0;34m:\u001b[0m\u001b[0;34m\u001b[0m\u001b[0m\n\u001b[1;32m    984\u001b[0m       \u001b[0mresults\u001b[0m \u001b[0;34m=\u001b[0m \u001b[0;34m[\u001b[0m\u001b[0;34m]\u001b[0m\u001b[0;34m\u001b[0m\u001b[0m\n",
      "\u001b[0;32m/Users/carl/recherche/.env/lib/python3.6/site-packages/tensorflow/python/client/session.py\u001b[0m in \u001b[0;36m_do_run\u001b[0;34m(self, handle, target_list, fetch_list, feed_dict, options, run_metadata)\u001b[0m\n\u001b[1;32m   1030\u001b[0m     \u001b[0;32mif\u001b[0m \u001b[0mhandle\u001b[0m \u001b[0;32mis\u001b[0m \u001b[0;32mNone\u001b[0m\u001b[0;34m:\u001b[0m\u001b[0;34m\u001b[0m\u001b[0m\n\u001b[1;32m   1031\u001b[0m       return self._do_call(_run_fn, self._session, feed_dict, fetch_list,\n\u001b[0;32m-> 1032\u001b[0;31m                            target_list, options, run_metadata)\n\u001b[0m\u001b[1;32m   1033\u001b[0m     \u001b[0;32melse\u001b[0m\u001b[0;34m:\u001b[0m\u001b[0;34m\u001b[0m\u001b[0m\n\u001b[1;32m   1034\u001b[0m       return self._do_call(_prun_fn, self._session, handle, feed_dict,\n",
      "\u001b[0;32m/Users/carl/recherche/.env/lib/python3.6/site-packages/tensorflow/python/client/session.py\u001b[0m in \u001b[0;36m_do_call\u001b[0;34m(self, fn, *args)\u001b[0m\n\u001b[1;32m   1037\u001b[0m   \u001b[0;32mdef\u001b[0m \u001b[0m_do_call\u001b[0m\u001b[0;34m(\u001b[0m\u001b[0mself\u001b[0m\u001b[0;34m,\u001b[0m \u001b[0mfn\u001b[0m\u001b[0;34m,\u001b[0m \u001b[0;34m*\u001b[0m\u001b[0margs\u001b[0m\u001b[0;34m)\u001b[0m\u001b[0;34m:\u001b[0m\u001b[0;34m\u001b[0m\u001b[0m\n\u001b[1;32m   1038\u001b[0m     \u001b[0;32mtry\u001b[0m\u001b[0;34m:\u001b[0m\u001b[0;34m\u001b[0m\u001b[0m\n\u001b[0;32m-> 1039\u001b[0;31m       \u001b[0;32mreturn\u001b[0m \u001b[0mfn\u001b[0m\u001b[0;34m(\u001b[0m\u001b[0;34m*\u001b[0m\u001b[0margs\u001b[0m\u001b[0;34m)\u001b[0m\u001b[0;34m\u001b[0m\u001b[0m\n\u001b[0m\u001b[1;32m   1040\u001b[0m     \u001b[0;32mexcept\u001b[0m \u001b[0merrors\u001b[0m\u001b[0;34m.\u001b[0m\u001b[0mOpError\u001b[0m \u001b[0;32mas\u001b[0m \u001b[0me\u001b[0m\u001b[0;34m:\u001b[0m\u001b[0;34m\u001b[0m\u001b[0m\n\u001b[1;32m   1041\u001b[0m       \u001b[0mmessage\u001b[0m \u001b[0;34m=\u001b[0m \u001b[0mcompat\u001b[0m\u001b[0;34m.\u001b[0m\u001b[0mas_text\u001b[0m\u001b[0;34m(\u001b[0m\u001b[0me\u001b[0m\u001b[0;34m.\u001b[0m\u001b[0mmessage\u001b[0m\u001b[0;34m)\u001b[0m\u001b[0;34m\u001b[0m\u001b[0m\n",
      "\u001b[0;32m/Users/carl/recherche/.env/lib/python3.6/site-packages/tensorflow/python/client/session.py\u001b[0m in \u001b[0;36m_run_fn\u001b[0;34m(session, feed_dict, fetch_list, target_list, options, run_metadata)\u001b[0m\n\u001b[1;32m   1019\u001b[0m         return tf_session.TF_Run(session, options,\n\u001b[1;32m   1020\u001b[0m                                  \u001b[0mfeed_dict\u001b[0m\u001b[0;34m,\u001b[0m \u001b[0mfetch_list\u001b[0m\u001b[0;34m,\u001b[0m \u001b[0mtarget_list\u001b[0m\u001b[0;34m,\u001b[0m\u001b[0;34m\u001b[0m\u001b[0m\n\u001b[0;32m-> 1021\u001b[0;31m                                  status, run_metadata)\n\u001b[0m\u001b[1;32m   1022\u001b[0m \u001b[0;34m\u001b[0m\u001b[0m\n\u001b[1;32m   1023\u001b[0m     \u001b[0;32mdef\u001b[0m \u001b[0m_prun_fn\u001b[0m\u001b[0;34m(\u001b[0m\u001b[0msession\u001b[0m\u001b[0;34m,\u001b[0m \u001b[0mhandle\u001b[0m\u001b[0;34m,\u001b[0m \u001b[0mfeed_dict\u001b[0m\u001b[0;34m,\u001b[0m \u001b[0mfetch_list\u001b[0m\u001b[0;34m)\u001b[0m\u001b[0;34m:\u001b[0m\u001b[0;34m\u001b[0m\u001b[0m\n",
      "\u001b[0;31mKeyboardInterrupt\u001b[0m: "
     ]
    }
   ],
   "source": [
    "# Train best model\n",
    "model = build_model_dual(num_classes, count_size=count_size, lr=2**-4, l2_reg=0)\n",
    "history = classif.train(model, data, gen_dual, epochs=100)"
   ]
  },
  {
   "cell_type": "code",
   "execution_count": 55,
   "metadata": {},
   "outputs": [
    {
     "data": {
      "image/png": "[encoded data removed]",
      "text/plain": [
       "<matplotlib.figure.Figure at 0x1ff37beb8>"
      ]
     },
     "metadata": {},
     "output_type": "display_data"
    },
    {
     "data": {
      "image/png": "[encoded data removed]",
      "text/plain": [
       "<matplotlib.figure.Figure at 0x1fbc8ff98>"
      ]
     },
     "metadata": {},
     "output_type": "display_data"
    }
   ],
   "source": [
    "plt.figure()\n",
    "plt.title('Loss')\n",
    "plt.plot(history.history['loss'], label='Train')\n",
    "plt.plot(history.history['val_loss'], label='Valid')\n",
    "plt.legend()\n",
    "plt.show()\n",
    "plt.figure()\n",
    "plt.title('Accuracy')\n",
    "plt.plot(history.history['dense_285_acc'], label='Train')\n",
    "plt.plot(history.history['val_dense_285_acc'], label='Valid')\n",
    "plt.legend()\n",
    "plt.show()"
   ]
  },
  {
   "cell_type": "code",
   "execution_count": 56,
   "metadata": {},
   "outputs": [
    {
     "name": "stdout",
     "output_type": "stream",
     "text": [
      "Test accuracy: 0.999555308505\n",
      "             precision    recall  f1-score   support\n",
      "\n",
      "          0       1.00      1.00      1.00       440\n",
      "          1       1.00      1.00      1.00        91\n",
      "          2       1.00      1.00      1.00       239\n",
      "          3       1.00      1.00      1.00        21\n",
      "          4       1.00      1.00      1.00       492\n",
      "          5       1.00      1.00      1.00        44\n",
      "          6       1.00      1.00      1.00         7\n",
      "          7       1.00      1.00      1.00        45\n",
      "          8       1.00      1.00      1.00        97\n",
      "          9       0.99      1.00      0.99       323\n",
      "\n",
      "avg / total       1.00      1.00      1.00      1799\n",
      "\n",
      "(1799, 1024)\n"
     ]
    }
   ],
   "source": [
    "y_pred, vectors = model.predict(data['X_test'])\n",
    "y_pred = to_categorical(np.argmax(y_pred, axis=1), num_classes)\n",
    "test_acc = np.mean(y_pred == data['y_test'])\n",
    "print('Test accuracy: ' + str(test_acc))\n",
    "print(classification_report(data['y_test'], y_pred))\n",
    "print(vectors.shape)"
   ]
  },
  {
   "cell_type": "code",
   "execution_count": 57,
   "metadata": {},
   "outputs": [
    {
     "name": "stdout",
     "output_type": "stream",
     "text": [
      "(5288, 1024)\n"
     ]
    }
   ],
   "source": [
    "_, vectors = model.predict(dual_data)\n",
    "print(vectors.shape)"
   ]
  },
  {
   "cell_type": "code",
   "execution_count": 58,
   "metadata": {
    "collapsed": true
   },
   "outputs": [],
   "source": [
    "np.savetxt('fqsp_embed.tsv', vectors, delimiter='\\t')"
   ]
  },
  {
   "cell_type": "code",
   "execution_count": 92,
   "metadata": {},
   "outputs": [
    {
     "name": "stdout",
     "output_type": "stream",
     "text": [
      "Embedding answers...\n"
     ]
    }
   ],
   "source": [
    "import word2vec\n",
    "import matplotlib.pyplot as plt\n",
    "embedder = word2vec.Embedder()"
   ]
  },
  {
   "cell_type": "code",
   "execution_count": 337,
   "metadata": {
    "collapsed": true
   },
   "outputs": [],
   "source": [
    "def plot_pred(y_pred):\n",
    "    ind = np.arange(num_classes)  # the x locations for the groups\n",
    "    width = 0.35                  # the width of the bars\n",
    "\n",
    "    fig, ax = plt.subplots()\n",
    "    rects1 = ax.bar(ind, y_pred.ravel() * 100)\n",
    "\n",
    "    # add some text for labels, title and axes ticks\n",
    "    ax.set_ylabel('Probabilité')\n",
    "    ax.set_title('Sujet')\n",
    "    ax.set_xticks(ind)\n",
    "    ax.set_xticklabels(short_labels, rotation=70)\n",
    "    ax.set_ylim([0.,100.])\n",
    "\n",
    "    plt.show()"
   ]
  },
  {
   "cell_type": "code",
   "execution_count": 344,
   "metadata": {},
   "outputs": [
    {
     "name": "stdout",
     "output_type": "stream",
     "text": [
      "Mots inconnus. Somme: 0.0\n"
     ]
    },
    {
     "data": {
      "image/png": "[encoded data removed]",
      "text/plain": [
       "<matplotlib.figure.Figure at 0x1cbb17f98>"
      ]
     },
     "metadata": {},
     "output_type": "display_data"
    }
   ],
   "source": [
    "test_ans = embedder.embed_phrase(\"civic\")\n",
    "somme = np.sum(np.abs(test_ans))\n",
    "if somme < 1e-3:\n",
    "    print('Mots inconnus. Somme: ' + str(somme))\n",
    "y_pred = model.predict(test_ans[None, :])\n",
    "plot_pred(y_pred)"
   ]
  },
  {
   "cell_type": "code",
   "execution_count": null,
   "metadata": {
    "collapsed": true
   },
   "outputs": [],
   "source": []
  }
 ],
 "metadata": {
  "kernelspec": {
   "display_name": "Python 3",
   "language": "python",
   "name": "python3"
  },
  "language_info": {
   "codemirror_mode": {
    "name": "ipython",
    "version": 3
   },
   "file_extension": ".py",
   "mimetype": "text/x-python",
   "name": "python",
   "nbconvert_exporter": "python",
   "pygments_lexer": "ipython3",
   "version": "3.6.1"
  }
 },
 "nbformat": 4,
 "nbformat_minor": 2
}
