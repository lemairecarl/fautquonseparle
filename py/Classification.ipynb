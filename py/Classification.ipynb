{
 "cells": [
  {
   "cell_type": "markdown",
   "metadata": {},
   "source": [
    "# TODO\n",
    "* Evaluer erreurs\n",
    "* Voir les associations mots->classe\n",
    "* Voir les ech. qui activent certaines classes"
   ]
  },
  {
   "cell_type": "code",
   "execution_count": 31,
   "metadata": {
    "scrolled": true
   },
   "outputs": [
    {
     "name": "stdout",
     "output_type": "stream",
     "text": [
      "The autoreload extension is already loaded. To reload it, use:\n",
      "  %reload_ext autoreload\n"
     ]
    }
   ],
   "source": [
    "import pickle\n",
    "import numpy as np\n",
    "from keras.models import Sequential\n",
    "from keras.layers import Dense, BatchNormalization\n",
    "from keras.utils import to_categorical\n",
    "from keras.regularizers import l2\n",
    "\n",
    "from sklearn.metrics import classification_report\n",
    "\n",
    "import classif\n",
    "\n",
    "%load_ext autoreload\n",
    "%autoreload 2"
   ]
  },
  {
   "cell_type": "code",
   "execution_count": 100,
   "metadata": {},
   "outputs": [
    {
     "name": "stdout",
     "output_type": "stream",
     "text": [
      "N train, val, test: 3172 317 1799\n",
      "Bin count train:  [811 143 425  48 783  71  22  99 191 579]\n",
      "Bin count val:    [70 17 43  4 82 13  4 11 14 59]\n",
      "Bin count test:   [467  98 215  21 491  43  14  39  93 318]\n"
     ]
    }
   ],
   "source": [
    "def build_model(num_classes, l2_reg):\n",
    "    model = Sequential()\n",
    "    model.add(BatchNormalization(input_shape=(64,), gamma_regularizer=l2(l2_reg)))\n",
    "    model.add(Dense(256, activation='relu', kernel_regularizer=l2(l2_reg)))\n",
    "    model.add(BatchNormalization(gamma_regularizer=l2(l2_reg)))\n",
    "    model.add(Dense(1024, activation='relu', kernel_regularizer=l2(l2_reg)))\n",
    "    model.add(BatchNormalization(gamma_regularizer=l2(l2_reg)))\n",
    "    model.add(Dense(num_classes, activation='softmax', kernel_regularizer=l2(l2_reg)))\n",
    "    \n",
    "    model.compile('adam', 'categorical_crossentropy', metrics=['acc'])\n",
    "    return model\n",
    "\n",
    "\n",
    "def train(model: Sequential, data, gen=None, verbose=1, epochs=10):\n",
    "    print('Training...')\n",
    "    if gen:\n",
    "        history = model.fit_generator(gen(), 100, epochs=epochs, verbose=verbose,\n",
    "                                      validation_data=(data['X_val'], data['y_val']))\n",
    "    else:\n",
    "        history = model.fit(data['X_train'], data['y_train'],\n",
    "                            validation_data=(data['X_val'], data['y_val']),\n",
    "                            verbose=verbose)\n",
    "    \n",
    "    return np.max(history.history['val_acc'])\n",
    "    \n",
    "\n",
    "def test(model: Sequential, data):\n",
    "    print('Testing...')\n",
    "    results = model.evaluate(data['X_test'], data['y_test'])\n",
    "    print('\\nLoss: {}  Acc: {}'.format(*results))\n",
    "\n",
    "    \n",
    "data, num_classes, gen = classif.load_data()\n",
    "q_labels = ['Démocratie: Comment reprendre le pouvoir?',\n",
    "'Économie: Comment développer le Québec selon nos priorités?',\n",
    "'Régions: Comment dynamiser toutes nos communautés?',\n",
    "'Indépendance: Comment se remettre en marche?',\n",
    "'Éducation: Comment permettre à tout le monde de réaliser son plein potentiel?',\n",
    "'Premiers Peuples: Comment construire la solidarité entre nous?',\n",
    "'Diversité: Comment vivre ensemble sans racisme ni discrimination?',\n",
    "'Culture: Comment favoriser une création artistique vivante et en assurer l’accès à tous?',\n",
    "'Santé: Comment prendre soin de tout le monde?',\n",
    "'Climat: Comment enclencher la transition?',\n",
    "'On a oublié quelque chose?']"
   ]
  },
  {
   "cell_type": "code",
   "execution_count": 60,
   "metadata": {},
   "outputs": [
    {
     "name": "stdout",
     "output_type": "stream",
     "text": [
      "Trying reg=1e-06\n",
      "Training...\n",
      "Using gen\n",
      "Val acc: 0.848580443709\n",
      "Trying reg=1e-05\n",
      "Training...\n",
      "Using gen\n",
      "Val acc: 0.82965299929\n",
      "Trying reg=0.0001\n",
      "Training...\n",
      "Using gen\n",
      "Val acc: 0.813880126935\n",
      "Trying reg=0.001\n",
      "Training...\n",
      "Using gen\n",
      "Val acc: 0.804416402845\n",
      "Trying reg=0.01\n",
      "Training...\n",
      "Using gen\n",
      "Val acc: 0.574132493618\n",
      "Trying reg=0.1\n",
      "Training...\n",
      "Using gen\n",
      "Val acc: 0.359621450258\n"
     ]
    }
   ],
   "source": [
    "# Perform grid search\n",
    "# best l2_reg = 0.01\n",
    "reg_list = [1e-6, 1e-5, 1e-4, 1e-3, 1e-2, 1e-1]\n",
    "results = {}\n",
    "\n",
    "for reg in reg_list:\n",
    "    print('Trying reg=' + str(reg))\n",
    "    model = build_model(num_classes, reg)\n",
    "    val_acc = train(model, data, gen, verbose=0, epochs=40)\n",
    "    print('Val acc: ' + str(val_acc))\n",
    "    results[reg] = val_acc"
   ]
  },
  {
   "cell_type": "code",
   "execution_count": 61,
   "metadata": {
    "scrolled": true
   },
   "outputs": [
    {
     "name": "stdout",
     "output_type": "stream",
     "text": [
      "Training...\n",
      "Using gen\n",
      "Epoch 1/40\n",
      "100/100 [==============================] - 5s - loss: 2.0771 - acc: 0.3756 - val_loss: 2.0835 - val_acc: 0.2776\n",
      "Epoch 2/40\n",
      "100/100 [==============================] - 0s - loss: 1.6118 - acc: 0.4862 - val_loss: 1.7261 - val_acc: 0.4227\n",
      "Epoch 3/40\n",
      "100/100 [==============================] - 0s - loss: 1.4703 - acc: 0.5328 - val_loss: 1.5102 - val_acc: 0.4606\n",
      "Epoch 4/40\n",
      "100/100 [==============================] - 0s - loss: 1.3213 - acc: 0.5863 - val_loss: 1.5593 - val_acc: 0.4826\n",
      "Epoch 5/40\n",
      "100/100 [==============================] - 1s - loss: 1.1865 - acc: 0.6206 - val_loss: 1.4209 - val_acc: 0.5584\n",
      "Epoch 6/40\n",
      "100/100 [==============================] - 1s - loss: 1.1475 - acc: 0.6272 - val_loss: 1.3285 - val_acc: 0.5457\n",
      "Epoch 7/40\n",
      "100/100 [==============================] - 1s - loss: 1.1090 - acc: 0.6512 - val_loss: 1.6228 - val_acc: 0.5142\n",
      "Epoch 8/40\n",
      "100/100 [==============================] - 1s - loss: 1.0672 - acc: 0.6584 - val_loss: 1.3086 - val_acc: 0.5678\n",
      "Epoch 9/40\n",
      "100/100 [==============================] - 1s - loss: 0.9351 - acc: 0.6959 - val_loss: 1.0548 - val_acc: 0.6625\n",
      "Epoch 10/40\n",
      "100/100 [==============================] - 1s - loss: 0.9346 - acc: 0.6934 - val_loss: 1.2510 - val_acc: 0.5962\n",
      "Epoch 11/40\n",
      "100/100 [==============================] - 1s - loss: 0.8657 - acc: 0.7172 - val_loss: 1.0351 - val_acc: 0.6593\n",
      "Epoch 12/40\n",
      "100/100 [==============================] - 1s - loss: 0.8307 - acc: 0.7347 - val_loss: 1.1835 - val_acc: 0.6057\n",
      "Epoch 13/40\n",
      "100/100 [==============================] - 1s - loss: 0.8573 - acc: 0.7253 - val_loss: 0.9496 - val_acc: 0.6593\n",
      "Epoch 14/40\n",
      "100/100 [==============================] - 1s - loss: 0.7997 - acc: 0.7216 - val_loss: 0.9043 - val_acc: 0.6909\n",
      "Epoch 15/40\n",
      "100/100 [==============================] - 1s - loss: 0.7923 - acc: 0.7391 - val_loss: 1.1186 - val_acc: 0.6530\n",
      "Epoch 16/40\n",
      "100/100 [==============================] - 1s - loss: 0.7636 - acc: 0.7472 - val_loss: 0.9568 - val_acc: 0.6467\n",
      "Epoch 17/40\n",
      "100/100 [==============================] - 1s - loss: 0.7372 - acc: 0.7566 - val_loss: 0.9228 - val_acc: 0.6751\n",
      "Epoch 18/40\n",
      "100/100 [==============================] - 1s - loss: 0.7262 - acc: 0.7556 - val_loss: 0.7472 - val_acc: 0.7508\n",
      "Epoch 19/40\n",
      "100/100 [==============================] - 1s - loss: 0.6795 - acc: 0.7753 - val_loss: 0.8886 - val_acc: 0.7098\n",
      "Epoch 20/40\n",
      "100/100 [==============================] - 1s - loss: 0.7027 - acc: 0.7700 - val_loss: 0.8576 - val_acc: 0.7287\n",
      "Epoch 21/40\n",
      "100/100 [==============================] - 1s - loss: 0.6420 - acc: 0.7931 - val_loss: 0.9063 - val_acc: 0.7066\n",
      "Epoch 22/40\n",
      "100/100 [==============================] - 1s - loss: 0.6238 - acc: 0.7934 - val_loss: 0.7867 - val_acc: 0.7129\n",
      "Epoch 23/40\n",
      "100/100 [==============================] - 1s - loss: 0.6558 - acc: 0.7847 - val_loss: 0.7271 - val_acc: 0.7445\n",
      "Epoch 24/40\n",
      "100/100 [==============================] - 1s - loss: 0.6368 - acc: 0.7922 - val_loss: 0.7377 - val_acc: 0.7634\n",
      "Epoch 25/40\n",
      "100/100 [==============================] - 1s - loss: 0.6157 - acc: 0.7953 - val_loss: 0.7249 - val_acc: 0.7855\n",
      "Epoch 26/40\n",
      "100/100 [==============================] - 1s - loss: 0.6063 - acc: 0.8044 - val_loss: 0.6486 - val_acc: 0.7729\n",
      "Epoch 27/40\n",
      "100/100 [==============================] - 1s - loss: 0.5621 - acc: 0.8122 - val_loss: 0.7795 - val_acc: 0.7508\n",
      "Epoch 28/40\n",
      "100/100 [==============================] - 1s - loss: 0.5529 - acc: 0.8287 - val_loss: 0.8135 - val_acc: 0.7445\n",
      "Epoch 29/40\n",
      "100/100 [==============================] - 1s - loss: 0.5825 - acc: 0.8044 - val_loss: 0.6688 - val_acc: 0.7981\n",
      "Epoch 30/40\n",
      "100/100 [==============================] - 1s - loss: 0.5721 - acc: 0.8162 - val_loss: 0.6653 - val_acc: 0.8013\n",
      "Epoch 31/40\n",
      "100/100 [==============================] - 1s - loss: 0.5786 - acc: 0.8128 - val_loss: 0.5752 - val_acc: 0.7886\n",
      "Epoch 32/40\n",
      "100/100 [==============================] - 1s - loss: 0.5291 - acc: 0.8228 - val_loss: 0.6945 - val_acc: 0.7666\n",
      "Epoch 33/40\n",
      "100/100 [==============================] - 1s - loss: 0.5081 - acc: 0.8363 - val_loss: 0.6475 - val_acc: 0.7950\n",
      "Epoch 34/40\n",
      "100/100 [==============================] - 1s - loss: 0.5356 - acc: 0.8259 - val_loss: 0.7090 - val_acc: 0.8076\n",
      "Epoch 35/40\n",
      "100/100 [==============================] - 1s - loss: 0.4961 - acc: 0.8359 - val_loss: 0.6355 - val_acc: 0.7886\n",
      "Epoch 36/40\n",
      "100/100 [==============================] - 1s - loss: 0.5004 - acc: 0.8337 - val_loss: 0.6715 - val_acc: 0.7886\n",
      "Epoch 37/40\n",
      "100/100 [==============================] - 1s - loss: 0.5230 - acc: 0.8322 - val_loss: 0.6543 - val_acc: 0.7760\n",
      "Epoch 38/40\n",
      "100/100 [==============================] - 1s - loss: 0.4982 - acc: 0.8381 - val_loss: 0.5612 - val_acc: 0.8013\n",
      "Epoch 39/40\n",
      "100/100 [==============================] - 1s - loss: 0.4745 - acc: 0.8469 - val_loss: 0.6637 - val_acc: 0.7792\n",
      "Epoch 40/40\n",
      "100/100 [==============================] - 1s - loss: 0.5107 - acc: 0.8359 - val_loss: 0.5845 - val_acc: 0.8170\n"
     ]
    },
    {
     "data": {
      "text/plain": [
       "0.81703470275981194"
      ]
     },
     "execution_count": 61,
     "metadata": {},
     "output_type": "execute_result"
    }
   ],
   "source": [
    "# Train best model\n",
    "model = build_model(num_classes, 1e-6)\n",
    "train(model, data, gen, epochs=40)"
   ]
  },
  {
   "cell_type": "code",
   "execution_count": 64,
   "metadata": {},
   "outputs": [
    {
     "name": "stdout",
     "output_type": "stream",
     "text": [
      "Test accuracy: 0.961423012785\n",
      "             precision    recall  f1-score   support\n",
      "\n",
      "          0       0.90      0.78      0.83       451\n",
      "          1       0.84      0.93      0.88        84\n",
      "          2       0.72      0.77      0.75       242\n",
      "          3       0.74      0.94      0.83        34\n",
      "          4       0.79      0.72      0.75       450\n",
      "          5       0.84      0.95      0.89        38\n",
      "          6       0.59      1.00      0.74        13\n",
      "          7       0.84      0.98      0.90        57\n",
      "          8       0.72      0.88      0.79        96\n",
      "          9       0.82      0.88      0.85       334\n",
      "\n",
      "avg / total       0.81      0.81      0.81      1799\n",
      "\n"
     ]
    }
   ],
   "source": [
    "y_pred = model.predict(data['X_test'])\n",
    "y_pred = to_categorical(np.argmax(y_pred, axis=1), num_classes)\n",
    "test_acc = np.mean(y_pred == data['y_test'])\n",
    "print('Test accuracy: ' + str(test_acc))\n",
    "print(classification_report(data['y_test'], y_pred))"
   ]
  },
  {
   "cell_type": "code",
   "execution_count": 92,
   "metadata": {},
   "outputs": [
    {
     "name": "stdout",
     "output_type": "stream",
     "text": [
      "Embedding answers...\n"
     ]
    }
   ],
   "source": [
    "import word2vec\n",
    "import matplotlib.pyplot as plt\n",
    "embedder = word2vec.Embedder()"
   ]
  },
  {
   "cell_type": "code",
   "execution_count": 116,
   "metadata": {},
   "outputs": [
    {
     "data": {
      "image/png": "[encoded data removed]",
      "text/plain": [
       "<matplotlib.figure.Figure at 0x1a920f940>"
      ]
     },
     "metadata": {},
     "output_type": "display_data"
    },
    {
     "name": "stdout",
     "output_type": "stream",
     "text": [
      "Culture: Comment favoriser une création artistique vivante et en assurer l’accès à tous?\n"
     ]
    }
   ],
   "source": [
    "test_ans = embedder.embed_phrase('Soutenir les poètes, philosophes et écrivains')\n",
    "y_pred = model.predict(test_ans[None, :])\n",
    "plt.figure()\n",
    "plt.stem(y_pred.ravel(), 'o')\n",
    "plt.show()\n",
    "y_pred = np.argmax(y_pred, axis=1)\n",
    "print(q_labels[int(y_pred)])"
   ]
  },
  {
   "cell_type": "code",
   "execution_count": null,
   "metadata": {
    "collapsed": true
   },
   "outputs": [],
   "source": []
  }
 ],
 "metadata": {
  "kernelspec": {
   "display_name": "Python 3",
   "language": "python",
   "name": "python3"
  },
  "language_info": {
   "codemirror_mode": {
    "name": "ipython",
    "version": 3
   },
   "file_extension": ".py",
   "mimetype": "text/x-python",
   "name": "python",
   "nbconvert_exporter": "python",
   "pygments_lexer": "ipython3",
   "version": "3.6.1"
  }
 },
 "nbformat": 4,
 "nbformat_minor": 2
}
