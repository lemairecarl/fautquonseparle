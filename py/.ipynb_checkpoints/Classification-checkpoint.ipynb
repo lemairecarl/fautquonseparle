{
 "cells": [
  {
   "cell_type": "markdown",
   "metadata": {},
   "source": [
    "# TODO\n",
    "* Evaluer erreurs\n",
    "* Voir les associations mots->classe\n",
    "* Voir les ech. qui activent certaines classes\n",
    "* Éviter les cas d'overlap! (Val 85  Test 190)"
   ]
  },
  {
   "cell_type": "code",
   "execution_count": 30,
   "metadata": {
    "scrolled": true
   },
   "outputs": [
    {
     "name": "stdout",
     "output_type": "stream",
     "text": [
      "The autoreload extension is already loaded. To reload it, use:\n",
      "  %reload_ext autoreload\n"
     ]
    }
   ],
   "source": [
    "import pickle\n",
    "import numpy as np\n",
    "import matplotlib.pyplot as plt\n",
    "from keras.models import Sequential, Model\n",
    "from keras.layers import Dense, BatchNormalization, Input\n",
    "from keras.layers.merge import Add\n",
    "from keras.utils import to_categorical\n",
    "from keras.regularizers import l2\n",
    "from keras.optimizers import SGD\n",
    "\n",
    "from sklearn.metrics import classification_report\n",
    "\n",
    "import classif\n",
    "\n",
    "%matplotlib inline\n",
    "plt.rcParams['image.cmap'] = 'jet'\n",
    "%load_ext autoreload\n",
    "%autoreload 2"
   ]
  },
  {
   "cell_type": "code",
   "execution_count": 14,
   "metadata": {},
   "outputs": [
    {
     "name": "stdout",
     "output_type": "stream",
     "text": [
      "N train, val, test: 3172 317 1799\n"
     ]
    }
   ],
   "source": [
    "data, num_classes, gen, gen_dual = classif.load_data()\n",
    "\n",
    "count_size = data['X_train'][1].shape[1]\n",
    "\n",
    "q_labels = ['Démocratie: Comment reprendre le pouvoir?',\n",
    "'Économie: Comment développer le Québec selon nos priorités?',\n",
    "'Régions: Comment dynamiser toutes nos communautés?',\n",
    "'Indépendance: Comment se remettre en marche?',\n",
    "'Éducation: Comment permettre à tout le monde de réaliser son plein potentiel?',\n",
    "'Premiers Peuples: Comment construire la solidarité entre nous?',\n",
    "'Diversité: Comment vivre ensemble sans racisme ni discrimination?',\n",
    "'Culture: Comment favoriser une création artistique vivante et en assurer l’accès à tous?',\n",
    "'Santé: Comment prendre soin de tout le monde?',\n",
    "'Climat: Comment enclencher la transition?']\n",
    "\n",
    "short_labels = ['Démocratie',\n",
    "'Économie',\n",
    "'Régions',\n",
    "'Indépendance',\n",
    "'Éducation',\n",
    "'Premiers Peuples',\n",
    "'Diversité',\n",
    "'Culture',\n",
    "'Santé',\n",
    "'Climat']"
   ]
  },
  {
   "cell_type": "code",
   "execution_count": 24,
   "metadata": {
    "collapsed": true
   },
   "outputs": [],
   "source": [
    "def build_model(num_classes, l2_reg):\n",
    "    model = Sequential()\n",
    "    model.add(BatchNormalization(input_shape=(64,), gamma_regularizer=l2(l2_reg)))\n",
    "    model.add(Dense(256, activation='relu', kernel_regularizer=l2(l2_reg)))\n",
    "    model.add(BatchNormalization(gamma_regularizer=l2(l2_reg)))\n",
    "    model.add(Dense(1024, activation='relu', kernel_regularizer=l2(l2_reg)))\n",
    "    model.add(BatchNormalization(gamma_regularizer=l2(l2_reg)))\n",
    "    model.add(Dense(1024, activation='relu', kernel_regularizer=l2(l2_reg)))\n",
    "    model.add(BatchNormalization(gamma_regularizer=l2(l2_reg)))\n",
    "    model.add(Dense(num_classes, activation='softmax', kernel_regularizer=l2(l2_reg)))\n",
    "    \n",
    "    model.compile('adam', 'categorical_crossentropy', metrics=['acc'])\n",
    "    return model\n",
    "\n",
    "def build_model_dual(num_classes, count_size, lr, l2_reg):\n",
    "    embed_in = Input(shape=(64,))\n",
    "    count_in = Input(shape=(count_size,))\n",
    "    count_embed = Dense(64)(count_in)\n",
    "    reembed = Add()([embed_in, count_embed])\n",
    "    x = BatchNormalization(gamma_regularizer=l2(l2_reg))(reembed)\n",
    "    x = Dense(256, activation='relu', kernel_regularizer=l2(l2_reg))(x)\n",
    "    x = BatchNormalization(gamma_regularizer=l2(l2_reg))(x)\n",
    "    x = Dense(1024, activation='relu', kernel_regularizer=l2(l2_reg))(x)\n",
    "    x = BatchNormalization(gamma_regularizer=l2(l2_reg))(x)\n",
    "    x = Dense(1024, activation='relu', kernel_regularizer=l2(l2_reg))(x)\n",
    "    x = BatchNormalization(gamma_regularizer=l2(l2_reg))(x)\n",
    "    x = Dense(num_classes, activation='softmax', kernel_regularizer=l2(l2_reg))(x)\n",
    "    model = Model([embed_in, count_in], [x, reembed])\n",
    "    optimizer = SGD(lr=lr)  # TODO set decay\n",
    "    model.compile(optimizer, 'categorical_crossentropy', metrics=['acc'])\n",
    "    return model"
   ]
  },
  {
   "cell_type": "code",
   "execution_count": 32,
   "metadata": {},
   "outputs": [
    {
     "name": "stdout",
     "output_type": "stream",
     "text": [
      "Trying: lr 0.015625  reg 1e-06\n",
      "Training...\n",
      "Val acc: 0.968454260743\n",
      "Trying: lr 0.015625  reg 1e-05\n",
      "Training...\n",
      "Val acc: 0.962145112478\n",
      "Trying: lr 0.015625  reg 0.0001\n",
      "Training...\n",
      "Val acc: 0.971608834876\n",
      "Trying: lr 0.03125  reg 1e-06\n",
      "Training...\n",
      "Val acc: 0.965299686611\n",
      "Trying: lr 0.03125  reg 1e-05\n",
      "Training...\n",
      "Val acc: 0.981072557273\n",
      "Trying: lr 0.03125  reg 0.0001\n",
      "Training...\n",
      "Val acc: 0.96529968285\n",
      "Trying: lr 0.0625  reg 1e-06\n",
      "Training...\n",
      "Val acc: 0.971608834876\n",
      "Trying: lr 0.0625  reg 1e-05\n",
      "Training...\n",
      "Val acc: 0.949526812564\n",
      "Trying: lr 0.0625  reg 0.0001\n",
      "Training...\n",
      "Val acc: 0.95268138632\n",
      "Trying: lr 0.125  reg 1e-06\n",
      "Training...\n",
      "Val acc: 0.933753941901\n",
      "Trying: lr 0.125  reg 1e-05\n",
      "Training...\n",
      "Val acc: 0.955835962521\n",
      "Trying: lr 0.125  reg 0.0001\n",
      "Training...\n",
      "Val acc: 0.952681386696\n"
     ]
    }
   ],
   "source": [
    "# Perform grid search\n",
    "# best l2_reg = 0.01\n",
    "from itertools import product as itprod\n",
    "lr_list = 2. ** np.array([-6, -5, -4, -3])\n",
    "reg_list = [1e-6, 1e-5, 1e-4]\n",
    "#results = {}\n",
    "\n",
    "for lr, reg in itprod(lr_list, reg_list):\n",
    "    print('Trying: lr {}  reg {}'.format(lr, reg))\n",
    "    model = build_model_dual(num_classes, count_size, lr=lr, l2_reg=reg)\n",
    "    history = classif.train(model, data, gen_dual, verbose=0, epochs=30)\n",
    "    val_acc = np.max(history.history['val_acc'])\n",
    "    print('Val acc: ' + str(val_acc))\n",
    "    results[lr, reg] = val_acc"
   ]
  },
  {
   "cell_type": "code",
   "execution_count": 33,
   "metadata": {},
   "outputs": [
    {
     "data": {
      "image/png": "[encoded data removed]",
      "text/plain": [
       "<matplotlib.figure.Figure at 0x155c00eb8>"
      ]
     },
     "metadata": {},
     "output_type": "display_data"
    }
   ],
   "source": [
    "# Visualize the cross-validation results\n",
    "import math\n",
    "x_scatter = [np.log2(x[0]) for x in results]\n",
    "y_scatter = [np.log10(x[1]) for x in results]\n",
    "\n",
    "# plot training accuracy\n",
    "marker_size = 100\n",
    "colors = [results[x] for x in results]\n",
    "plt.scatter(x_scatter, y_scatter, marker_size, c=colors)\n",
    "plt.colorbar()\n",
    "plt.xlabel('log learning rate')\n",
    "plt.ylabel('log regularization strength')\n",
    "plt.title('Validation accuracy')\n",
    "plt.show()"
   ]
  },
  {
   "cell_type": "code",
   "execution_count": 35,
   "metadata": {
    "scrolled": true
   },
   "outputs": [
    {
     "name": "stdout",
     "output_type": "stream",
     "text": [
      "Training...\n",
      "Epoch 1/100\n",
      "100/100 [==============================] - 6s - loss: 2.2852 - acc: 0.4278 - val_loss: 1.9039 - val_acc: 0.4006\n",
      "Epoch 2/100\n",
      "100/100 [==============================] - 1s - loss: 1.4321 - acc: 0.5737 - val_loss: 1.4106 - val_acc: 0.5016\n",
      "Epoch 3/100\n",
      "100/100 [==============================] - 1s - loss: 1.1759 - acc: 0.6462 - val_loss: 1.1550 - val_acc: 0.5994\n",
      "Epoch 4/100\n",
      "100/100 [==============================] - 1s - loss: 0.9391 - acc: 0.7050 - val_loss: 1.1296 - val_acc: 0.6183\n",
      "Epoch 5/100\n",
      "100/100 [==============================] - 1s - loss: 0.8321 - acc: 0.7350 - val_loss: 1.0134 - val_acc: 0.6782\n",
      "Epoch 6/100\n",
      "100/100 [==============================] - 1s - loss: 0.7696 - acc: 0.7675 - val_loss: 0.8813 - val_acc: 0.7224\n",
      "Epoch 7/100\n",
      "100/100 [==============================] - 1s - loss: 0.6564 - acc: 0.7944 - val_loss: 0.8360 - val_acc: 0.7382\n",
      "Epoch 8/100\n",
      "100/100 [==============================] - 1s - loss: 0.6306 - acc: 0.8009 - val_loss: 0.7548 - val_acc: 0.7571\n",
      "Epoch 9/100\n",
      "100/100 [==============================] - 1s - loss: 0.5337 - acc: 0.8284 - val_loss: 0.8688 - val_acc: 0.7508\n",
      "Epoch 10/100\n",
      "100/100 [==============================] - 1s - loss: 0.5084 - acc: 0.8384 - val_loss: 0.7056 - val_acc: 0.7729\n",
      "Epoch 11/100\n",
      "100/100 [==============================] - 1s - loss: 0.4824 - acc: 0.8444 - val_loss: 0.7198 - val_acc: 0.7855\n",
      "Epoch 12/100\n",
      "100/100 [==============================] - 1s - loss: 0.4230 - acc: 0.8600 - val_loss: 0.6300 - val_acc: 0.7729\n",
      "Epoch 13/100\n",
      "100/100 [==============================] - 1s - loss: 0.4294 - acc: 0.8525 - val_loss: 0.5203 - val_acc: 0.8328\n",
      "Epoch 14/100\n",
      "100/100 [==============================] - 1s - loss: 0.3839 - acc: 0.8806 - val_loss: 0.4834 - val_acc: 0.8486\n",
      "Epoch 15/100\n",
      "100/100 [==============================] - 1s - loss: 0.3723 - acc: 0.8844 - val_loss: 0.5194 - val_acc: 0.8233\n",
      "Epoch 16/100\n",
      "100/100 [==============================] - 1s - loss: 0.3284 - acc: 0.8863 - val_loss: 0.4167 - val_acc: 0.8644\n",
      "Epoch 17/100\n",
      "100/100 [==============================] - 1s - loss: 0.3095 - acc: 0.9034 - val_loss: 0.3398 - val_acc: 0.8675\n",
      "Epoch 18/100\n",
      "100/100 [==============================] - 1s - loss: 0.2941 - acc: 0.9041 - val_loss: 0.5071 - val_acc: 0.8517\n",
      "Epoch 19/100\n",
      "100/100 [==============================] - 1s - loss: 0.2934 - acc: 0.9038 - val_loss: 0.3942 - val_acc: 0.8675\n",
      "Epoch 20/100\n",
      "100/100 [==============================] - 1s - loss: 0.2679 - acc: 0.9119 - val_loss: 0.3602 - val_acc: 0.8738\n",
      "Epoch 21/100\n",
      "100/100 [==============================] - 1s - loss: 0.2498 - acc: 0.9159 - val_loss: 0.2842 - val_acc: 0.9117\n",
      "Epoch 22/100\n",
      "100/100 [==============================] - 1s - loss: 0.2426 - acc: 0.9253 - val_loss: 0.3038 - val_acc: 0.9022\n",
      "Epoch 23/100\n",
      "100/100 [==============================] - 1s - loss: 0.2208 - acc: 0.9234 - val_loss: 0.2989 - val_acc: 0.9022\n",
      "Epoch 24/100\n",
      "100/100 [==============================] - 1s - loss: 0.2179 - acc: 0.9272 - val_loss: 0.2045 - val_acc: 0.9401\n",
      "Epoch 25/100\n",
      "100/100 [==============================] - 1s - loss: 0.2124 - acc: 0.9300 - val_loss: 0.2690 - val_acc: 0.9338\n",
      "Epoch 26/100\n",
      "100/100 [==============================] - 1s - loss: 0.1827 - acc: 0.9406 - val_loss: 0.2056 - val_acc: 0.9274\n",
      "Epoch 27/100\n",
      "100/100 [==============================] - 1s - loss: 0.1629 - acc: 0.9441 - val_loss: 0.1755 - val_acc: 0.9464\n",
      "Epoch 28/100\n",
      "100/100 [==============================] - 1s - loss: 0.1625 - acc: 0.9516 - val_loss: 0.1847 - val_acc: 0.9464\n",
      "Epoch 29/100\n",
      "100/100 [==============================] - 1s - loss: 0.1621 - acc: 0.9431 - val_loss: 0.1564 - val_acc: 0.9590\n",
      "Epoch 30/100\n",
      "100/100 [==============================] - 1s - loss: 0.1601 - acc: 0.9472 - val_loss: 0.1468 - val_acc: 0.9558\n",
      "Epoch 31/100\n",
      "100/100 [==============================] - 1s - loss: 0.1771 - acc: 0.9434 - val_loss: 0.2219 - val_acc: 0.9369\n",
      "Epoch 32/100\n",
      "100/100 [==============================] - 1s - loss: 0.1694 - acc: 0.9450 - val_loss: 0.2404 - val_acc: 0.9401\n",
      "Epoch 33/100\n",
      "100/100 [==============================] - 1s - loss: 0.1418 - acc: 0.9516 - val_loss: 0.2198 - val_acc: 0.9495\n",
      "Epoch 34/100\n",
      "100/100 [==============================] - 1s - loss: 0.1436 - acc: 0.9491 - val_loss: 0.1346 - val_acc: 0.9716\n",
      "Epoch 35/100\n",
      "100/100 [==============================] - 1s - loss: 0.1378 - acc: 0.9547 - val_loss: 0.1495 - val_acc: 0.9653\n",
      "Epoch 36/100\n",
      "100/100 [==============================] - 1s - loss: 0.1400 - acc: 0.9556 - val_loss: 0.1415 - val_acc: 0.9653\n",
      "Epoch 37/100\n",
      "100/100 [==============================] - 1s - loss: 0.1363 - acc: 0.9562 - val_loss: 0.0939 - val_acc: 0.9811\n",
      "Epoch 38/100\n",
      "100/100 [==============================] - 1s - loss: 0.1255 - acc: 0.9594 - val_loss: 0.1209 - val_acc: 0.9716\n",
      "Epoch 39/100\n",
      "100/100 [==============================] - 1s - loss: 0.1066 - acc: 0.9631 - val_loss: 0.1675 - val_acc: 0.9685\n",
      "Epoch 40/100\n",
      "100/100 [==============================] - 1s - loss: 0.1174 - acc: 0.9587 - val_loss: 0.0988 - val_acc: 0.9748\n",
      "Epoch 41/100\n",
      "100/100 [==============================] - 1s - loss: 0.1085 - acc: 0.9672 - val_loss: 0.1526 - val_acc: 0.9590\n",
      "Epoch 42/100\n",
      "100/100 [==============================] - 1s - loss: 0.0911 - acc: 0.9731 - val_loss: 0.0954 - val_acc: 0.9811\n",
      "Epoch 43/100\n",
      "100/100 [==============================] - ETA: 0s - loss: 0.0949 - acc: 0.967 - 1s - loss: 0.0951 - acc: 0.9672 - val_loss: 0.1128 - val_acc: 0.9716\n",
      "Epoch 44/100\n",
      "100/100 [==============================] - 1s - loss: 0.0675 - acc: 0.9772 - val_loss: 0.0797 - val_acc: 0.9685\n",
      "Epoch 45/100\n",
      "100/100 [==============================] - 1s - loss: 0.0830 - acc: 0.9725 - val_loss: 0.0534 - val_acc: 0.9842\n",
      "Epoch 46/100\n",
      "100/100 [==============================] - 1s - loss: 0.0936 - acc: 0.9688 - val_loss: 0.0731 - val_acc: 0.9842\n",
      "Epoch 47/100\n",
      "100/100 [==============================] - 1s - loss: 0.1014 - acc: 0.9697 - val_loss: 0.0739 - val_acc: 0.9811\n",
      "Epoch 48/100\n",
      "100/100 [==============================] - 1s - loss: 0.1008 - acc: 0.9653 - val_loss: 0.1066 - val_acc: 0.9685\n",
      "Epoch 49/100\n",
      "100/100 [==============================] - 1s - loss: 0.0751 - acc: 0.9781 - val_loss: 0.0429 - val_acc: 0.9905\n",
      "Epoch 50/100\n",
      "100/100 [==============================] - 1s - loss: 0.0578 - acc: 0.9784 - val_loss: 0.0306 - val_acc: 0.9937\n",
      "Epoch 51/100\n",
      "100/100 [==============================] - 1s - loss: 0.0668 - acc: 0.9781 - val_loss: 0.0413 - val_acc: 0.9842\n",
      "Epoch 52/100\n",
      "100/100 [==============================] - 1s - loss: 0.0789 - acc: 0.9750 - val_loss: 0.0572 - val_acc: 0.9779\n",
      "Epoch 53/100\n",
      "100/100 [==============================] - 1s - loss: 0.0593 - acc: 0.9800 - val_loss: 0.0525 - val_acc: 0.9874\n",
      "Epoch 54/100\n",
      "100/100 [==============================] - 1s - loss: 0.0703 - acc: 0.9772 - val_loss: 0.0500 - val_acc: 0.9779\n",
      "Epoch 55/100\n",
      "100/100 [==============================] - 1s - loss: 0.0729 - acc: 0.9762 - val_loss: 0.0388 - val_acc: 0.9874\n",
      "Epoch 56/100\n",
      "100/100 [==============================] - 1s - loss: 0.0589 - acc: 0.9794 - val_loss: 0.0180 - val_acc: 0.9937\n",
      "Epoch 57/100\n",
      "100/100 [==============================] - 1s - loss: 0.0591 - acc: 0.9781 - val_loss: 0.0502 - val_acc: 0.9811\n",
      "Epoch 58/100\n",
      "100/100 [==============================] - 1s - loss: 0.0677 - acc: 0.9762 - val_loss: 0.0723 - val_acc: 0.9621\n",
      "Epoch 59/100\n",
      "100/100 [==============================] - 1s - loss: 0.0731 - acc: 0.9722 - val_loss: 0.0174 - val_acc: 0.9905\n",
      "Epoch 60/100\n",
      "100/100 [==============================] - 1s - loss: 0.0564 - acc: 0.9828 - val_loss: 0.0159 - val_acc: 0.9937\n",
      "Epoch 61/100\n",
      "100/100 [==============================] - 1s - loss: 0.0641 - acc: 0.9788 - val_loss: 0.0328 - val_acc: 0.9874\n",
      "Epoch 62/100\n",
      "100/100 [==============================] - 1s - loss: 0.0618 - acc: 0.9794 - val_loss: 0.0459 - val_acc: 0.9905\n",
      "Epoch 63/100\n",
      "100/100 [==============================] - 1s - loss: 0.0519 - acc: 0.9828 - val_loss: 0.0340 - val_acc: 0.9874\n",
      "Epoch 64/100\n",
      "100/100 [==============================] - 1s - loss: 0.0591 - acc: 0.9825 - val_loss: 0.0313 - val_acc: 0.9937\n",
      "Epoch 65/100\n",
      "100/100 [==============================] - 1s - loss: 0.0429 - acc: 0.9866 - val_loss: 0.0256 - val_acc: 0.9968\n",
      "Epoch 66/100\n"
     ]
    },
    {
     "name": "stdout",
     "output_type": "stream",
     "text": [
      "100/100 [==============================] - 1s - loss: 0.0615 - acc: 0.9803 - val_loss: 0.0291 - val_acc: 0.9905\n",
      "Epoch 67/100\n",
      "100/100 [==============================] - 1s - loss: 0.0525 - acc: 0.9831 - val_loss: 0.0329 - val_acc: 0.9905\n",
      "Epoch 68/100\n",
      "100/100 [==============================] - 1s - loss: 0.0443 - acc: 0.9866 - val_loss: 0.0217 - val_acc: 0.9905\n",
      "Epoch 69/100\n",
      "100/100 [==============================] - 1s - loss: 0.0461 - acc: 0.9856 - val_loss: 0.0182 - val_acc: 0.9937\n",
      "Epoch 70/100\n",
      "100/100 [==============================] - 1s - loss: 0.0530 - acc: 0.9803 - val_loss: 0.0239 - val_acc: 0.9905\n",
      "Epoch 71/100\n",
      "100/100 [==============================] - 1s - loss: 0.0376 - acc: 0.9878 - val_loss: 0.0130 - val_acc: 0.9968\n",
      "Epoch 72/100\n",
      "100/100 [==============================] - 1s - loss: 0.0355 - acc: 0.9894 - val_loss: 0.0112 - val_acc: 1.0000\n",
      "Epoch 73/100\n",
      "100/100 [==============================] - 1s - loss: 0.0646 - acc: 0.9800 - val_loss: 0.0247 - val_acc: 0.9905\n",
      "Epoch 74/100\n",
      "100/100 [==============================] - 1s - loss: 0.0387 - acc: 0.9844 - val_loss: 0.0320 - val_acc: 0.9874\n",
      "Epoch 75/100\n",
      "100/100 [==============================] - 1s - loss: 0.0503 - acc: 0.9850 - val_loss: 0.0615 - val_acc: 0.9874\n",
      "Epoch 76/100\n",
      "100/100 [==============================] - 1s - loss: 0.0497 - acc: 0.9831 - val_loss: 0.0705 - val_acc: 0.9779\n",
      "Epoch 77/100\n",
      "100/100 [==============================] - 1s - loss: 0.0547 - acc: 0.9813 - val_loss: 0.0280 - val_acc: 0.9905\n",
      "Epoch 78/100\n",
      "100/100 [==============================] - 1s - loss: 0.0464 - acc: 0.9856 - val_loss: 0.0198 - val_acc: 0.9905\n",
      "Epoch 79/100\n",
      "100/100 [==============================] - 1s - loss: 0.0399 - acc: 0.9859 - val_loss: 0.0221 - val_acc: 0.9905\n",
      "Epoch 80/100\n",
      "100/100 [==============================] - 1s - loss: 0.0503 - acc: 0.9841 - val_loss: 0.0510 - val_acc: 0.9811\n",
      "Epoch 81/100\n",
      "100/100 [==============================] - 1s - loss: 0.0446 - acc: 0.9844 - val_loss: 0.0191 - val_acc: 0.9937\n",
      "Epoch 82/100\n",
      "100/100 [==============================] - 1s - loss: 0.0508 - acc: 0.9841 - val_loss: 0.0125 - val_acc: 0.9968\n",
      "Epoch 83/100\n",
      "100/100 [==============================] - 1s - loss: 0.0409 - acc: 0.9881 - val_loss: 0.0080 - val_acc: 0.9968\n",
      "Epoch 84/100\n",
      "100/100 [==============================] - 1s - loss: 0.0335 - acc: 0.9891 - val_loss: 0.0040 - val_acc: 1.0000\n",
      "Epoch 85/100\n",
      "100/100 [==============================] - 1s - loss: 0.0329 - acc: 0.9875 - val_loss: 0.0197 - val_acc: 0.9905\n",
      "Epoch 86/100\n",
      "100/100 [==============================] - 1s - loss: 0.0344 - acc: 0.9884 - val_loss: 0.0067 - val_acc: 1.0000\n",
      "Epoch 87/100\n",
      "100/100 [==============================] - 1s - loss: 0.0469 - acc: 0.9856 - val_loss: 0.0173 - val_acc: 0.9937\n",
      "Epoch 88/100\n",
      "100/100 [==============================] - 1s - loss: 0.0456 - acc: 0.9856 - val_loss: 0.0060 - val_acc: 1.0000\n",
      "Epoch 89/100\n",
      "100/100 [==============================] - 1s - loss: 0.0324 - acc: 0.9891 - val_loss: 0.0043 - val_acc: 1.0000\n",
      "Epoch 90/100\n",
      "100/100 [==============================] - 1s - loss: 0.0280 - acc: 0.9909 - val_loss: 0.0027 - val_acc: 1.0000\n",
      "Epoch 91/100\n",
      "100/100 [==============================] - 1s - loss: 0.0271 - acc: 0.9912 - val_loss: 0.0032 - val_acc: 1.0000\n",
      "Epoch 92/100\n",
      "100/100 [==============================] - 1s - loss: 0.0191 - acc: 0.9953 - val_loss: 0.0063 - val_acc: 0.9968\n",
      "Epoch 93/100\n",
      "100/100 [==============================] - 1s - loss: 0.0189 - acc: 0.9947 - val_loss: 0.0104 - val_acc: 0.9937\n",
      "Epoch 94/100\n",
      "100/100 [==============================] - 1s - loss: 0.0352 - acc: 0.9875 - val_loss: 0.0308 - val_acc: 0.9874\n",
      "Epoch 95/100\n",
      "100/100 [==============================] - 1s - loss: 0.0268 - acc: 0.9909 - val_loss: 0.0143 - val_acc: 0.9937\n",
      "Epoch 96/100\n",
      "100/100 [==============================] - 1s - loss: 0.0201 - acc: 0.9950 - val_loss: 0.0120 - val_acc: 0.9937\n",
      "Epoch 97/100\n",
      "100/100 [==============================] - 1s - loss: 0.0207 - acc: 0.9938 - val_loss: 0.0093 - val_acc: 0.9968\n",
      "Epoch 98/100\n",
      "100/100 [==============================] - 1s - loss: 0.0309 - acc: 0.9916 - val_loss: 0.0040 - val_acc: 1.0000\n",
      "Epoch 99/100\n",
      "100/100 [==============================] - 1s - loss: 0.0280 - acc: 0.9922 - val_loss: 0.0073 - val_acc: 0.9968\n",
      "Epoch 100/100\n",
      "100/100 [==============================] - 1s - loss: 0.0330 - acc: 0.9894 - val_loss: 0.0048 - val_acc: 1.0000\n"
     ]
    }
   ],
   "source": [
    "# Train best model\n",
    "model = build_model_dual(num_classes, count_size=count_size, lr=2**-4, l2_reg=0)\n",
    "history = classif.train(model, data, gen_dual, epochs=100)"
   ]
  },
  {
   "cell_type": "code",
   "execution_count": 36,
   "metadata": {},
   "outputs": [
    {
     "data": {
      "image/png": "[encoded data removed]",
      "text/plain": [
       "<matplotlib.figure.Figure at 0x1f5299198>"
      ]
     },
     "metadata": {},
     "output_type": "display_data"
    },
    {
     "data": {
      "image/png": "[encoded data removed]",
      "text/plain": [
       "<matplotlib.figure.Figure at 0x1ef386b70>"
      ]
     },
     "metadata": {},
     "output_type": "display_data"
    }
   ],
   "source": [
    "plt.figure()\n",
    "plt.title('Loss')\n",
    "plt.plot(history.history['loss'], label='Train')\n",
    "plt.plot(history.history['val_loss'], label='Valid')\n",
    "plt.legend()\n",
    "plt.show()\n",
    "plt.figure()\n",
    "plt.title('Accuracy')\n",
    "plt.plot(history.history['acc'], label='Train')\n",
    "plt.plot(history.history['val_acc'], label='Valid')\n",
    "plt.legend()\n",
    "plt.show()"
   ]
  },
  {
   "cell_type": "code",
   "execution_count": 37,
   "metadata": {},
   "outputs": [
    {
     "name": "stdout",
     "output_type": "stream",
     "text": [
      "Test accuracy: 0.999221789883\n",
      "             precision    recall  f1-score   support\n",
      "\n",
      "          0       1.00      0.99      0.99       462\n",
      "          1       0.98      1.00      0.99        94\n",
      "          2       1.00      1.00      1.00       246\n",
      "          3       1.00      1.00      1.00        27\n",
      "          4       1.00      1.00      1.00       448\n",
      "          5       1.00      1.00      1.00        45\n",
      "          6       1.00      1.00      1.00        13\n",
      "          7       1.00      1.00      1.00        53\n",
      "          8       1.00      1.00      1.00        87\n",
      "          9       0.99      1.00      1.00       324\n",
      "\n",
      "avg / total       1.00      1.00      1.00      1799\n",
      "\n"
     ]
    }
   ],
   "source": [
    "y_pred = model.predict(data['X_test'])\n",
    "y_pred = to_categorical(np.argmax(y_pred, axis=1), num_classes)\n",
    "test_acc = np.mean(y_pred == data['y_test'])\n",
    "print('Test accuracy: ' + str(test_acc))\n",
    "print(classification_report(data['y_test'], y_pred))"
   ]
  },
  {
   "cell_type": "code",
   "execution_count": null,
   "metadata": {
    "collapsed": true
   },
   "outputs": [],
   "source": [
    "# Re-embed all answers\n"
   ]
  },
  {
   "cell_type": "code",
   "execution_count": 92,
   "metadata": {},
   "outputs": [
    {
     "name": "stdout",
     "output_type": "stream",
     "text": [
      "Embedding answers...\n"
     ]
    }
   ],
   "source": [
    "import word2vec\n",
    "import matplotlib.pyplot as plt\n",
    "embedder = word2vec.Embedder()"
   ]
  },
  {
   "cell_type": "code",
   "execution_count": 337,
   "metadata": {
    "collapsed": true
   },
   "outputs": [],
   "source": [
    "def plot_pred(y_pred):\n",
    "    ind = np.arange(num_classes)  # the x locations for the groups\n",
    "    width = 0.35                  # the width of the bars\n",
    "\n",
    "    fig, ax = plt.subplots()\n",
    "    rects1 = ax.bar(ind, y_pred.ravel() * 100)\n",
    "\n",
    "    # add some text for labels, title and axes ticks\n",
    "    ax.set_ylabel('Probabilité')\n",
    "    ax.set_title('Sujet')\n",
    "    ax.set_xticks(ind)\n",
    "    ax.set_xticklabels(short_labels, rotation=70)\n",
    "    ax.set_ylim([0.,100.])\n",
    "\n",
    "    plt.show()"
   ]
  },
  {
   "cell_type": "code",
   "execution_count": 344,
   "metadata": {},
   "outputs": [
    {
     "name": "stdout",
     "output_type": "stream",
     "text": [
      "Mots inconnus. Somme: 0.0\n"
     ]
    },
    {
     "data": {
      "image/png": "[encoded data removed]",
      "text/plain": [
       "<matplotlib.figure.Figure at 0x1cbb17f98>"
      ]
     },
     "metadata": {},
     "output_type": "display_data"
    }
   ],
   "source": [
    "test_ans = embedder.embed_phrase(\"civic\")\n",
    "somme = np.sum(np.abs(test_ans))\n",
    "if somme < 1e-3:\n",
    "    print('Mots inconnus. Somme: ' + str(somme))\n",
    "y_pred = model.predict(test_ans[None, :])\n",
    "plot_pred(y_pred)"
   ]
  },
  {
   "cell_type": "code",
   "execution_count": null,
   "metadata": {
    "collapsed": true
   },
   "outputs": [],
   "source": []
  }
 ],
 "metadata": {
  "kernelspec": {
   "display_name": "Python 3",
   "language": "python",
   "name": "python3"
  },
  "language_info": {
   "codemirror_mode": {
    "name": "ipython",
    "version": 3
   },
   "file_extension": ".py",
   "mimetype": "text/x-python",
   "name": "python",
   "nbconvert_exporter": "python",
   "pygments_lexer": "ipython3",
   "version": "3.6.1"
  }
 },
 "nbformat": 4,
 "nbformat_minor": 2
}
